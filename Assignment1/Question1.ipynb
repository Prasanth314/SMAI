{
  "cells": [
    {
      "cell_type": "markdown",
      "id": "7b7992a1",
      "metadata": {
        "id": "7b7992a1"
      },
      "source": [
        "# Image Recommendation System via Collaborative Filtering"
      ]
    },
    {
      "cell_type": "markdown",
      "id": "bdbd69cd",
      "metadata": {
        "id": "bdbd69cd"
      },
      "source": [
        "# ***Please read the instructions very carefully***"
      ]
    },
    {
      "cell_type": "markdown",
      "id": "17602772",
      "metadata": {
        "id": "17602772"
      },
      "source": [
        "1.   Assignment must be implemented in Python 3 only.\n",
        "2.   You are allowed to use libraries for data preprocessing (numpy, pandas, nltk etc) and for evaluation metrics, data visualization (matplotlib etc.).\n",
        "3.   You will be evaluated not just on the overall performance of the model and also on the experimentation with hyper parameters, data prepossessing techniques etc.\n",
        "4.   ⚠️ The Assignment will be evaluated automatically. Please adhere to taking proper inputs from `config.csv` file. You can change your `config.csv` file to experiment with your code. But at the end, make sure that your outputs are corresponding to input values in `config.csv`\n",
        "5.   Strict plagiarism checking will be done. An F will be awarded for plagiarism."
      ]
    },
    {
      "cell_type": "markdown",
      "id": "3c9abf04",
      "metadata": {
        "id": "3c9abf04"
      },
      "source": [
        "## About the Dataset\n",
        "Behance is a community art website where users showcase and discover creative work. Each user is able to “appreciate” (equivalent to a “like” on Instagram or a “react” on Facebook) an image, indicating that they like the image. It is in the website’s best interests to show users pictures that they would like, to keep them engaged for longer. For this question, given a set of pictures that a user has already appreciated, you have to show them a new picture that they would like based on what similar users appreciated.\n",
        "\n",
        "\n",
        "<br><br>\n",
        "**The dataset has information of 1 million appreciates of 63,497 users on 178,788 items. The file Behance appreciate 1M has a triplet in each line in the form of (user id, item id, unix timestamp).**"
      ]
    },
    {
      "cell_type": "markdown",
      "id": "11f6eaf3",
      "metadata": {
        "id": "11f6eaf3"
      },
      "source": [
        "**Task: Take the inputs from the config.csv file and output the recommendations for a particular person**\n",
        "- Collaborative Filtering is a way to predict items to the user based on the the\n",
        "user’s history and the history of similar users. The similarity between users can be quantified by the number of images that both the users appreciated.\n",
        "- The images appreciated by a similar user would be the most suitable images to show a user. Since we can find the similarity between any two users, we would be able to find the “nearest” neighbours of any user, allowing us to use a KNN-based algorithm to recommend new images to a user.\n",
        "- Since people do not like seeing pictures that they have seen already. Make sure that you do not recommend pictures that a user has appreciated already.\n",
        "- Output the final response will be saved in the file named ```config['output_file']```.\n"
      ]
    },
    {
      "cell_type": "markdown",
      "id": "1c9a5e4f",
      "metadata": {
        "id": "1c9a5e4f"
      },
      "source": [
        "**Output file format:**\n",
        "Populate the output file with images that the user has not seen of the k most\n",
        "similar users, in descending order of their similarity. Each line in the output\n",
        "file should be a duplet in the form of (item id, user id), where the user id is the\n",
        "id of the kth similar user. The order of the images corresponding to the same\n",
        "similar user would not matter. The output file would look something like this:\n",
        "```\n",
        "item_id_1_of_1st_similar_user 1st_most_similar_user_id\n",
        "item_id_2_of_1st_similar_user 1st_most_similar_user_id\n",
        "item_id_3_of_1st_similar_user 1st_most_similar_user_id\n",
        "...\n",
        "item_id_1_of_2nd_similar_user 2nd_most_similar_user_id\n",
        "item_id_2_of_2nd_similar_user 2nd_most_similar_user_id\n",
        "item_id_3_of_2nd_similar_user 2nd_most_similar_user_id\n",
        "...\n",
        "item_id_1_of_kth_similar_user kth_most_similar_user_id\n",
        "item_id_2_of_kth_similar_user kth_most_similar_user_id\n",
        "item_id_3_of_kth_similar_user kth_most_similar_user_id\n",
        "```"
      ]
    },
    {
      "cell_type": "markdown",
      "id": "c6d0c592",
      "metadata": {
        "id": "c6d0c592"
      },
      "source": [
        "The dataset was extracted using Behance’s API as a part of the paper\n",
        "“Vista: A visually, socially, and temporally-aware model for artistic\n",
        "recommendation, RecSys, 2016”. Check out this [Google Drive folder](https://drive.google.com/drive/folders/0B9Ck8jw-TZUEc3NlMjVXdDlPU1k?resourcekey=0-6_8ykn0o4fLc5fuTEm91xA) for\n",
        "more information about the dataset.\n",
        "\n",
        "\n",
        "Have fun! The users are waiting to see new pictures!"
      ]
    },
    {
      "cell_type": "markdown",
      "id": "87b8072a",
      "metadata": {
        "id": "87b8072a"
      },
      "source": [
        "### Import necessary libraries"
      ]
    },
    {
      "cell_type": "code",
      "execution_count": 1,
      "id": "f153853d",
      "metadata": {
        "id": "f153853d"
      },
      "outputs": [],
      "source": [
        "import numpy as np\n",
        "import pandas as pd\n",
        "from scipy.sparse import csr_matrix\n",
        "from scipy.sparse.linalg import svds, eigs\n",
        "from sklearn.decomposition import TruncatedSVD\n",
        "from numpy import dot\n",
        "from numpy.linalg import norm"
      ]
    },
    {
      "cell_type": "code",
      "execution_count": null,
      "id": "41ac6337",
      "metadata": {
        "id": "41ac6337"
      },
      "outputs": [],
      "source": [
        "# Config Generation Sample Code.\n",
        "# ⚠️ Only for experimentation on your side.\n",
        "# ⚠️ Should be commented during submission.\n",
        "\n",
        "# df = pd.DataFrame(data=[{'id':276633,\n",
        "#                   'k':5,\n",
        "#                   'dataset_file':'./Behance_appreciate_1M',\n",
        "#                   'output_file':'./output.txt'}])\n",
        "# df.to_csv('config.csv')"
      ]
    },
    {
      "cell_type": "code",
      "execution_count": 5,
      "id": "7af3e999",
      "metadata": {
        "id": "7af3e999"
      },
      "outputs": [],
      "source": [
        "config = pd.read_csv('config.csv').iloc[0]"
      ]
    },
    {
      "cell_type": "code",
      "execution_count": 6,
      "id": "829d0147",
      "metadata": {
        "colab": {
          "base_uri": "https://localhost:8080/"
        },
        "id": "829d0147",
        "outputId": "445b1d71-26ea-441f-8582-13fb46b49cf3"
      },
      "outputs": [
        {
          "output_type": "execute_result",
          "data": {
            "text/plain": [
              "Unnamed: 0                            0\n",
              "id                               276633\n",
              "k                                     5\n",
              "dataset_file    ./Behance_appreciate_1M\n",
              "output_file                ./output.txt\n",
              "Name: 0, dtype: object"
            ]
          },
          "metadata": {},
          "execution_count": 6
        }
      ],
      "source": [
        "config"
      ]
    },
    {
      "cell_type": "code",
      "execution_count": 27,
      "id": "f4d09c27",
      "metadata": {
        "colab": {
          "base_uri": "https://localhost:8080/"
        },
        "id": "f4d09c27",
        "outputId": "cb7e0258-6476-425e-f2a0-1c48a251e61f"
      },
      "outputs": [
        {
          "output_type": "execute_result",
          "data": {
            "text/plain": [
              "276633"
            ]
          },
          "metadata": {},
          "execution_count": 27
        }
      ],
      "source": [
        "user = config['id']\n",
        "k_value = config['k']\n",
        "user"
      ]
    },
    {
      "cell_type": "markdown",
      "id": "10935090",
      "metadata": {
        "id": "10935090"
      },
      "source": [
        "### Read the Data"
      ]
    },
    {
      "cell_type": "code",
      "execution_count": 55,
      "id": "5bbba85a",
      "metadata": {
        "id": "5bbba85a"
      },
      "outputs": [],
      "source": [
        "with open(config['dataset_file'], 'r') as inFile:\n",
        "    appreciate_data = inFile.readlines()"
      ]
    },
    {
      "cell_type": "code",
      "execution_count": 29,
      "id": "c0266e01",
      "metadata": {
        "id": "c0266e01"
      },
      "outputs": [],
      "source": [
        "# your code here"
      ]
    },
    {
      "cell_type": "markdown",
      "id": "99512e25",
      "metadata": {
        "id": "99512e25"
      },
      "source": [
        "### Initialize a dictionary to store the item_ids that a user likes\n",
        "\n",
        "### Go through each line of the input file and construct the user_likes dictionary"
      ]
    },
    {
      "cell_type": "code",
      "execution_count": 56,
      "id": "1d3d9be5",
      "metadata": {
        "id": "1d3d9be5"
      },
      "outputs": [],
      "source": [
        "user_likes = dict()"
      ]
    },
    {
      "cell_type": "code",
      "source": [
        "images=set()\n",
        "users=set()"
      ],
      "metadata": {
        "id": "mxdIYsE0mw9g"
      },
      "id": "mxdIYsE0mw9g",
      "execution_count": 57,
      "outputs": []
    },
    {
      "cell_type": "code",
      "execution_count": 58,
      "id": "80a539f1",
      "metadata": {
        "id": "80a539f1"
      },
      "outputs": [],
      "source": [
        "for line in appreciate_data:\n",
        "    line = line.strip()\n",
        "    \n",
        "    user_id = int(line.split()[0])\n",
        "    item_id = int(line.split()[1])\n",
        "\n",
        "    if user_id not in user_likes:\n",
        "        user_likes[user_id] = list()\n",
        "    images.add(item_id)\n",
        "    users.add(user_id)\n",
        "    user_likes[user_id].append(item_id)"
      ]
    },
    {
      "cell_type": "code",
      "source": [
        "len(images)"
      ],
      "metadata": {
        "colab": {
          "base_uri": "https://localhost:8080/"
        },
        "id": "zozwWO8elv9N",
        "outputId": "bb46f16f-c367-4673-95e3-6e30e7dcb4d7"
      },
      "id": "zozwWO8elv9N",
      "execution_count": 59,
      "outputs": [
        {
          "output_type": "execute_result",
          "data": {
            "text/plain": [
              "178788"
            ]
          },
          "metadata": {},
          "execution_count": 59
        }
      ]
    },
    {
      "cell_type": "code",
      "source": [
        "users=list(users)\n",
        "images=list(images)"
      ],
      "metadata": {
        "id": "BM6Bdhnso3if"
      },
      "id": "BM6Bdhnso3if",
      "execution_count": 60,
      "outputs": []
    },
    {
      "cell_type": "code",
      "source": [
        "user_indices=dict()\n",
        "image_indices=dict()\n",
        "for i in range(len(users)):\n",
        "  user_indices[users[i]]=i\n",
        "\n",
        "for i in range(len(images)):\n",
        "  image_indices[images[i]]=i"
      ],
      "metadata": {
        "id": "mvX03v9LmAkK"
      },
      "id": "mvX03v9LmAkK",
      "execution_count": 61,
      "outputs": []
    },
    {
      "cell_type": "code",
      "source": [
        "rows=[]\n",
        "cols=[]\n",
        "values=[]\n",
        "for line in appreciate_data:\n",
        "    line = line.strip()\n",
        "    \n",
        "    user_id = int(line.split()[0])\n",
        "    item_id = int(line.split()[1])\n",
        "    rows.append(user_indices[user_id])\n",
        "    cols.append(image_indices[item_id])\n",
        "values=[1]*len(rows)\n"
      ],
      "metadata": {
        "id": "ve9_uRB8o81A"
      },
      "id": "ve9_uRB8o81A",
      "execution_count": 62,
      "outputs": []
    },
    {
      "cell_type": "code",
      "source": [
        "len(rows)"
      ],
      "metadata": {
        "colab": {
          "base_uri": "https://localhost:8080/"
        },
        "id": "ywm9lTtnqqBs",
        "outputId": "ced2b9a4-141f-489d-80a0-6c77ef2aad0d"
      },
      "id": "ywm9lTtnqqBs",
      "execution_count": 63,
      "outputs": [
        {
          "output_type": "execute_result",
          "data": {
            "text/plain": [
              "1000000"
            ]
          },
          "metadata": {},
          "execution_count": 63
        }
      ]
    },
    {
      "cell_type": "code",
      "source": [
        "rows=np.array(rows)\n",
        "cols=np.array(cols)\n",
        "values=np.array(values)"
      ],
      "metadata": {
        "id": "82U_UrWJqHzh"
      },
      "id": "82U_UrWJqHzh",
      "execution_count": 64,
      "outputs": []
    },
    {
      "cell_type": "markdown",
      "source": [
        "## Matrix Decomposition"
      ],
      "metadata": {
        "id": "FX24rgFb1XcT"
      },
      "id": "FX24rgFb1XcT"
    },
    {
      "cell_type": "code",
      "source": [
        "cs_matrix=csr_matrix((values, (rows, cols))).tocsr()"
      ],
      "metadata": {
        "id": "cagD3kiVpncn"
      },
      "id": "cagD3kiVpncn",
      "execution_count": 65,
      "outputs": []
    },
    {
      "cell_type": "code",
      "source": [
        "cs_matrix.shape"
      ],
      "metadata": {
        "colab": {
          "base_uri": "https://localhost:8080/"
        },
        "id": "CYnINuD3yDuU",
        "outputId": "6077b5e7-a2e6-4cf4-f47e-c9bf915261ac"
      },
      "id": "CYnINuD3yDuU",
      "execution_count": 66,
      "outputs": [
        {
          "output_type": "execute_result",
          "data": {
            "text/plain": [
              "(63497, 178788)"
            ]
          },
          "metadata": {},
          "execution_count": 66
        }
      ]
    },
    {
      "cell_type": "code",
      "source": [
        "n_comp=1000\n",
        "while True:\n",
        "  global m\n",
        "  svd = TruncatedSVD(n_components=n_comp, random_state=42)\n",
        "  m=svd.fit(cs_matrix)\n",
        "  print(svd.explained_variance_ratio_.sum())\n",
        "  if(svd.explained_variance_ratio_.sum()>=0.8):\n",
        "    break\n",
        "  n_comp+=250"
      ],
      "metadata": {
        "id": "M1JvV1fny3Hf"
      },
      "id": "M1JvV1fny3Hf",
      "execution_count": 67,
      "outputs": []
    },
    {
      "cell_type": "markdown",
      "source": [
        "Note: Number of components depend on the explained variance ratio. Limited to the system specification, no_of_components is taken as 1000"
      ],
      "metadata": {
        "id": "SUQ217hw4pZO"
      },
      "id": "SUQ217hw4pZO"
    },
    {
      "cell_type": "code",
      "source": [
        "svd = TruncatedSVD(n_components=1000, random_state=42)\n",
        "m=svd.fit_transform(cs_matrix)"
      ],
      "metadata": {
        "id": "W-sDr4b11EtO"
      },
      "id": "W-sDr4b11EtO",
      "execution_count": 68,
      "outputs": []
    },
    {
      "cell_type": "code",
      "source": [
        "print(svd.n_features_in_)"
      ],
      "metadata": {
        "colab": {
          "base_uri": "https://localhost:8080/"
        },
        "id": "-B3banjfBi0O",
        "outputId": "320c881e-115a-4c98-ff58-29a114f35823"
      },
      "id": "-B3banjfBi0O",
      "execution_count": 69,
      "outputs": [
        {
          "output_type": "stream",
          "name": "stdout",
          "text": [
            "178788\n"
          ]
        }
      ]
    },
    {
      "cell_type": "code",
      "source": [
        "m.shape"
      ],
      "metadata": {
        "colab": {
          "base_uri": "https://localhost:8080/"
        },
        "id": "SlR8_xot-2l9",
        "outputId": "f8adcb40-0c61-4010-93c1-a039216b7621"
      },
      "id": "SlR8_xot-2l9",
      "execution_count": 70,
      "outputs": [
        {
          "output_type": "execute_result",
          "data": {
            "text/plain": [
              "(63497, 1000)"
            ]
          },
          "metadata": {},
          "execution_count": 70
        }
      ]
    },
    {
      "cell_type": "markdown",
      "id": "9e199965",
      "metadata": {
        "id": "9e199965"
      },
      "source": [
        "### Use KNN after Collaborative Filtering to find nearest neighbors"
      ]
    },
    {
      "cell_type": "code",
      "source": [
        "def Cosine_similarity(a,b):\n",
        "  return abs(dot(a,b)/(norm(a)*norm(b)))\n",
        "def Cosine_distance(a,b):\n",
        "  return 1-Cosine_similarity(a,b)"
      ],
      "metadata": {
        "id": "R84YhgCdDJ0G"
      },
      "id": "R84YhgCdDJ0G",
      "execution_count": 71,
      "outputs": []
    },
    {
      "cell_type": "code",
      "source": [
        "def neighbors(user,k_value):\n",
        "  user_index=user_indices[user]\n",
        "  user_vec=m[user_index]\n",
        "  distances=[]\n",
        "  for i in range(len(m)):\n",
        "    if i!=user_index:\n",
        "      distances.append([i,Cosine_distance(user_vec,m[i])])\n",
        "  distances.sort(key=lambda x:x[1])\n",
        "  distances=distances[:k_value]\n",
        "  k_neighbours=[]\n",
        "  for i in range(k_value):\n",
        "    index=distances[i][0]\n",
        "    k_neighbours.append(users[index])\n",
        "    print(distances[i][1])\n",
        "  return k_neighbours\n",
        "\n"
      ],
      "metadata": {
        "id": "6NQHqAaZ2Aun"
      },
      "id": "6NQHqAaZ2Aun",
      "execution_count": 72,
      "outputs": []
    },
    {
      "cell_type": "code",
      "source": [
        "neighbors(user,k_value)"
      ],
      "metadata": {
        "colab": {
          "base_uri": "https://localhost:8080/"
        },
        "id": "UDhwBynR2Am9",
        "outputId": "c035a5d7-278c-435b-c638-56445c7d6f8a"
      },
      "id": "UDhwBynR2Am9",
      "execution_count": 54,
      "outputs": [
        {
          "output_type": "stream",
          "name": "stdout",
          "text": [
            "0.10308780285651797\n",
            "0.10308780285667896\n",
            "0.5594346221864541\n",
            "0.5636005075337738\n",
            "0.5950759477856786\n"
          ]
        },
        {
          "output_type": "execute_result",
          "data": {
            "text/plain": [
              "[1973004, 1494939, 1480429, 2452817, 3660527]"
            ]
          },
          "metadata": {},
          "execution_count": 54
        }
      ]
    },
    {
      "cell_type": "markdown",
      "source": [
        "## KNN using Jaccard"
      ],
      "metadata": {
        "id": "2hXQEFVV073H"
      },
      "id": "2hXQEFVV073H"
    },
    {
      "cell_type": "code",
      "execution_count": null,
      "id": "2117df52",
      "metadata": {
        "id": "2117df52"
      },
      "outputs": [],
      "source": [
        "# your code here\n",
        "# your code here\n",
        "# def neighbors_jaccard(user,k_value):\n",
        "#     \"\"\" returns an iterable object (like list or generator) \"\"\"\n",
        "#     similarity_dict=dict()\n",
        "#     current_user_likes=set(user_likes[user])\n",
        "#     for u in user_likes:\n",
        "#       if u==user:\n",
        "#         continue\n",
        "#       temp=set(user_likes[u])\n",
        "#       aUnionb=current_user_likes.union(temp)\n",
        "#       aintersectionb=current_user_likes.intersection(temp)\n",
        "#       similarity_dict[u]=len(aintersectionb)\n",
        "\n",
        "#     sorted_list=sorted(similarity_dict.items(),key=lambda item:item[1],reverse=True)\n",
        "#     sorted_list=sorted_list[:k_value]\n",
        "#     # print(sorted_list)\n",
        "#     result=[u[0] for u in sorted_list]\n",
        "#     return result"
      ]
    },
    {
      "cell_type": "code",
      "source": [
        "# neighbors_jaccard(user,k_value)"
      ],
      "metadata": {
        "colab": {
          "base_uri": "https://localhost:8080/"
        },
        "id": "VDAKZIXgWqcf",
        "outputId": "cc54509b-1986-450a-adb6-3aed38f0eb86"
      },
      "id": "VDAKZIXgWqcf",
      "execution_count": null,
      "outputs": [
        {
          "output_type": "execute_result",
          "data": {
            "text/plain": [
              "[3628520, 666917, 2492899, 3313136, 2585131]"
            ]
          },
          "metadata": {},
          "execution_count": 28
        }
      ]
    },
    {
      "cell_type": "markdown",
      "source": [
        ""
      ],
      "metadata": {
        "id": "JSUtVFuHNZZS"
      },
      "id": "JSUtVFuHNZZS"
    },
    {
      "cell_type": "markdown",
      "id": "892c395b",
      "metadata": {
        "id": "892c395b"
      },
      "source": [
        "### Open the output file to write all the lines to the file"
      ]
    },
    {
      "cell_type": "code",
      "execution_count": 73,
      "id": "428708d5",
      "metadata": {
        "id": "428708d5",
        "colab": {
          "base_uri": "https://localhost:8080/"
        },
        "outputId": "31761aaf-d447-4517-a2ca-a87029fa7132"
      },
      "outputs": [
        {
          "output_type": "stream",
          "name": "stdout",
          "text": [
            "0.10308780285651797\n",
            "0.10308780285667896\n",
            "0.5594346221864541\n",
            "0.5636005075337738\n",
            "0.5950759477856786\n"
          ]
        }
      ],
      "source": [
        "outFile = open(config['output_file'], 'w')\n",
        "\n",
        "for user_id in neighbors(user,k_value):\n",
        "    # user_id = list(user_likes.keys())[n_user]\n",
        "    for item_id in user_likes[user_id]:\n",
        "      if(item_id not in user_likes[user]):\n",
        "        outFile.write(str(item_id) + ' ' + str(user_id) + '\\n')\n",
        "\n",
        "outFile.close()"
      ]
    },
    {
      "cell_type": "code",
      "source": [
        ""
      ],
      "metadata": {
        "id": "6wxG_hP_1o3R"
      },
      "id": "6wxG_hP_1o3R",
      "execution_count": null,
      "outputs": []
    }
  ],
  "metadata": {
    "kernelspec": {
      "display_name": "Python 3",
      "language": "python",
      "name": "python3"
    },
    "language_info": {
      "codemirror_mode": {
        "name": "ipython",
        "version": 3
      },
      "file_extension": ".py",
      "mimetype": "text/x-python",
      "name": "python",
      "nbconvert_exporter": "python",
      "pygments_lexer": "ipython3",
      "version": "3.8.10"
    },
    "colab": {
      "name": "2021201005_Assignment1_Question1.ipynb",
      "provenance": [],
      "collapsed_sections": []
    }
  },
  "nbformat": 4,
  "nbformat_minor": 5
}