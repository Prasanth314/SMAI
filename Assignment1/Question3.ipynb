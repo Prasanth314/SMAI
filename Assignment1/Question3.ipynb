{
  "cells": [
    {
      "cell_type": "markdown",
      "id": "02c54141",
      "metadata": {
        "id": "02c54141"
      },
      "source": [
        "## Spam Email Classifier with KNN using TF-IDF scores"
      ]
    },
    {
      "cell_type": "markdown",
      "id": "1c17102e",
      "metadata": {
        "id": "1c17102e"
      },
      "source": [
        "1.   Assignment must be implemented in Python 3 only.\n",
        "2.   You are allowed to use libraries for data preprocessing (numpy, pandas, nltk etc) and for evaluation metrics, data visualization (matplotlib etc.).\n",
        "3.   You will be evaluated not just on the overall performance of the model and also on the experimentation with hyper parameters, data prepossessing techniques etc.\n",
        "4.   The report file must be a well documented jupyter notebook, explaining the experiments you have performed, evaluation metrics and corresponding code. The code must run and be able to reproduce the accuracies, figures/graphs etc.\n",
        "5.   For all the questions, you must create a train-validation data split and test the hyperparameter tuning on the validation set. Your jupyter notebook must reflect the same.\n",
        "6.   Strict plagiarism checking will be done. An F will be awarded for plagiarism."
      ]
    },
    {
      "cell_type": "markdown",
      "id": "0d34a310",
      "metadata": {
        "id": "0d34a310"
      },
      "source": [
        "**Task: Given an email, classify it as spam or ham**\n",
        "\n",
        "Given input text file (\"emails.txt\") containing 5572 email messages, with each row having its corresponding label (spam/ham) attached to it.\n",
        "\n",
        "This task also requires basic pre-processing of text (like removing stopwords, stemming/lemmatizing, replacing email_address with 'email-tag', etc..).\n",
        "\n",
        "You are required to find the tf-idf scores for the given data and use them to perform KNN using Cosine Similarity."
      ]
    },
    {
      "cell_type": "markdown",
      "id": "b0c87696",
      "metadata": {
        "id": "b0c87696"
      },
      "source": [
        "### Import necessary libraries"
      ]
    },
    {
      "cell_type": "code",
      "execution_count": null,
      "id": "3d5a1fe2",
      "metadata": {
        "id": "3d5a1fe2"
      },
      "outputs": [],
      "source": [
        "import numpy as np\n",
        "import pandas as pd\n",
        "from sklearn.model_selection import train_test_split\n",
        "from sklearn.metrics import accuracy_score,precision_score,recall_score\n",
        "from sklearn.metrics import f1_score\n",
        "from sklearn.metrics import confusion_matrix,ConfusionMatrixDisplay\n",
        "from sklearn.neighbors import KNeighborsClassifier\n",
        "import nltk\n",
        "import math\n",
        "from nltk.corpus import stopwords\n",
        "from nltk.stem.wordnet import WordNetLemmatizer\n",
        "from numpy import dot\n",
        "from numpy.linalg import norm\n",
        "import matplotlib.pyplot as plt"
      ]
    },
    {
      "cell_type": "code",
      "source": [
        "nltk.download('stopwords')\n",
        "nltk.download('wordnet')"
      ],
      "metadata": {
        "colab": {
          "base_uri": "https://localhost:8080/"
        },
        "id": "UMyXfRnkpecl",
        "outputId": "46c7b433-4ee5-4a5f-86d6-371538a76cdb"
      },
      "id": "UMyXfRnkpecl",
      "execution_count": null,
      "outputs": [
        {
          "output_type": "stream",
          "name": "stdout",
          "text": [
            "[nltk_data] Downloading package stopwords to /root/nltk_data...\n",
            "[nltk_data]   Unzipping corpora/stopwords.zip.\n",
            "[nltk_data] Downloading package wordnet to /root/nltk_data...\n",
            "[nltk_data]   Unzipping corpora/wordnet.zip.\n"
          ]
        },
        {
          "output_type": "execute_result",
          "data": {
            "text/plain": [
              "True"
            ]
          },
          "metadata": {},
          "execution_count": 2
        }
      ]
    },
    {
      "cell_type": "markdown",
      "id": "7aef4dff",
      "metadata": {
        "id": "7aef4dff"
      },
      "source": [
        "### Load dataset"
      ]
    },
    {
      "cell_type": "code",
      "execution_count": null,
      "id": "f178f892",
      "metadata": {
        "id": "f178f892"
      },
      "outputs": [],
      "source": [
        "df=pd.read_csv('emails.txt', sep='\\t', header=None, names=[\"label\", \"text\"])\n"
      ]
    },
    {
      "cell_type": "markdown",
      "id": "cd1ef5ba",
      "metadata": {
        "id": "cd1ef5ba"
      },
      "source": [
        "### Preprocess data"
      ]
    },
    {
      "cell_type": "code",
      "source": [
        "df['text']=df['text'].str.replace('[\\w\\.-]+@[\\w\\.-]+','email-tag')\n",
        "df['text']=df['text'].str.replace('[^a-zA-Z]',' ')\n",
        "df['text'] = df['text'].str.replace('  ',' ')\n",
        "df['text']=df['text'].str.lower()"
      ],
      "metadata": {
        "id": "0JvHGN4SKInf"
      },
      "id": "0JvHGN4SKInf",
      "execution_count": null,
      "outputs": []
    },
    {
      "cell_type": "code",
      "source": [
        "stop_words=set(stopwords.words(\"english\"))\n",
        "lem=WordNetLemmatizer()"
      ],
      "metadata": {
        "id": "fAtw9IZHnV-P"
      },
      "id": "fAtw9IZHnV-P",
      "execution_count": null,
      "outputs": []
    },
    {
      "cell_type": "code",
      "source": [
        "def preprocess(text):\n",
        "  filtered_sent=[]\n",
        "  for w in text.split():\n",
        "    if w not in stop_words:\n",
        "      filtered_sent.append(lem.lemmatize(w))\n",
        "  return ' '.join(filtered_sent)"
      ],
      "metadata": {
        "id": "YURJr8XYncvf"
      },
      "id": "YURJr8XYncvf",
      "execution_count": null,
      "outputs": []
    },
    {
      "cell_type": "code",
      "source": [
        "df['text']=df['text'].apply(lambda x:preprocess(x))\n"
      ],
      "metadata": {
        "id": "DXEDHXpaoKfO"
      },
      "id": "DXEDHXpaoKfO",
      "execution_count": null,
      "outputs": []
    },
    {
      "cell_type": "code",
      "source": [
        "df.dropna(inplace=True)\n",
        "df.drop_duplicates(inplace=True)\n",
        "df.reset_index(drop=True,inplace=True)"
      ],
      "metadata": {
        "id": "fGc9SLMIIn5R"
      },
      "id": "fGc9SLMIIn5R",
      "execution_count": null,
      "outputs": []
    },
    {
      "cell_type": "code",
      "source": [
        "df.head()"
      ],
      "metadata": {
        "colab": {
          "base_uri": "https://localhost:8080/",
          "height": 206
        },
        "id": "9fnsku0uNoBV",
        "outputId": "55214d36-0dda-4195-c91f-ec4e3dd05530"
      },
      "id": "9fnsku0uNoBV",
      "execution_count": null,
      "outputs": [
        {
          "output_type": "execute_result",
          "data": {
            "text/html": [
              "\n",
              "  <div id=\"df-3cd87fab-0fd9-47e6-b471-53164eaeb5c5\">\n",
              "    <div class=\"colab-df-container\">\n",
              "      <div>\n",
              "<style scoped>\n",
              "    .dataframe tbody tr th:only-of-type {\n",
              "        vertical-align: middle;\n",
              "    }\n",
              "\n",
              "    .dataframe tbody tr th {\n",
              "        vertical-align: top;\n",
              "    }\n",
              "\n",
              "    .dataframe thead th {\n",
              "        text-align: right;\n",
              "    }\n",
              "</style>\n",
              "<table border=\"1\" class=\"dataframe\">\n",
              "  <thead>\n",
              "    <tr style=\"text-align: right;\">\n",
              "      <th></th>\n",
              "      <th>label</th>\n",
              "      <th>text</th>\n",
              "    </tr>\n",
              "  </thead>\n",
              "  <tbody>\n",
              "    <tr>\n",
              "      <th>0</th>\n",
              "      <td>ham</td>\n",
              "      <td>go jurong point crazy available bugis n great ...</td>\n",
              "    </tr>\n",
              "    <tr>\n",
              "      <th>1</th>\n",
              "      <td>ham</td>\n",
              "      <td>ok lar joking wif u oni</td>\n",
              "    </tr>\n",
              "    <tr>\n",
              "      <th>2</th>\n",
              "      <td>spam</td>\n",
              "      <td>free entry wkly comp win fa cup final tkts st ...</td>\n",
              "    </tr>\n",
              "    <tr>\n",
              "      <th>3</th>\n",
              "      <td>ham</td>\n",
              "      <td>u dun say early hor u c already say</td>\n",
              "    </tr>\n",
              "    <tr>\n",
              "      <th>4</th>\n",
              "      <td>ham</td>\n",
              "      <td>nah think go usf life around though</td>\n",
              "    </tr>\n",
              "  </tbody>\n",
              "</table>\n",
              "</div>\n",
              "      <button class=\"colab-df-convert\" onclick=\"convertToInteractive('df-3cd87fab-0fd9-47e6-b471-53164eaeb5c5')\"\n",
              "              title=\"Convert this dataframe to an interactive table.\"\n",
              "              style=\"display:none;\">\n",
              "        \n",
              "  <svg xmlns=\"http://www.w3.org/2000/svg\" height=\"24px\"viewBox=\"0 0 24 24\"\n",
              "       width=\"24px\">\n",
              "    <path d=\"M0 0h24v24H0V0z\" fill=\"none\"/>\n",
              "    <path d=\"M18.56 5.44l.94 2.06.94-2.06 2.06-.94-2.06-.94-.94-2.06-.94 2.06-2.06.94zm-11 1L8.5 8.5l.94-2.06 2.06-.94-2.06-.94L8.5 2.5l-.94 2.06-2.06.94zm10 10l.94 2.06.94-2.06 2.06-.94-2.06-.94-.94-2.06-.94 2.06-2.06.94z\"/><path d=\"M17.41 7.96l-1.37-1.37c-.4-.4-.92-.59-1.43-.59-.52 0-1.04.2-1.43.59L10.3 9.45l-7.72 7.72c-.78.78-.78 2.05 0 2.83L4 21.41c.39.39.9.59 1.41.59.51 0 1.02-.2 1.41-.59l7.78-7.78 2.81-2.81c.8-.78.8-2.07 0-2.86zM5.41 20L4 18.59l7.72-7.72 1.47 1.35L5.41 20z\"/>\n",
              "  </svg>\n",
              "      </button>\n",
              "      \n",
              "  <style>\n",
              "    .colab-df-container {\n",
              "      display:flex;\n",
              "      flex-wrap:wrap;\n",
              "      gap: 12px;\n",
              "    }\n",
              "\n",
              "    .colab-df-convert {\n",
              "      background-color: #E8F0FE;\n",
              "      border: none;\n",
              "      border-radius: 50%;\n",
              "      cursor: pointer;\n",
              "      display: none;\n",
              "      fill: #1967D2;\n",
              "      height: 32px;\n",
              "      padding: 0 0 0 0;\n",
              "      width: 32px;\n",
              "    }\n",
              "\n",
              "    .colab-df-convert:hover {\n",
              "      background-color: #E2EBFA;\n",
              "      box-shadow: 0px 1px 2px rgba(60, 64, 67, 0.3), 0px 1px 3px 1px rgba(60, 64, 67, 0.15);\n",
              "      fill: #174EA6;\n",
              "    }\n",
              "\n",
              "    [theme=dark] .colab-df-convert {\n",
              "      background-color: #3B4455;\n",
              "      fill: #D2E3FC;\n",
              "    }\n",
              "\n",
              "    [theme=dark] .colab-df-convert:hover {\n",
              "      background-color: #434B5C;\n",
              "      box-shadow: 0px 1px 3px 1px rgba(0, 0, 0, 0.15);\n",
              "      filter: drop-shadow(0px 1px 2px rgba(0, 0, 0, 0.3));\n",
              "      fill: #FFFFFF;\n",
              "    }\n",
              "  </style>\n",
              "\n",
              "      <script>\n",
              "        const buttonEl =\n",
              "          document.querySelector('#df-3cd87fab-0fd9-47e6-b471-53164eaeb5c5 button.colab-df-convert');\n",
              "        buttonEl.style.display =\n",
              "          google.colab.kernel.accessAllowed ? 'block' : 'none';\n",
              "\n",
              "        async function convertToInteractive(key) {\n",
              "          const element = document.querySelector('#df-3cd87fab-0fd9-47e6-b471-53164eaeb5c5');\n",
              "          const dataTable =\n",
              "            await google.colab.kernel.invokeFunction('convertToInteractive',\n",
              "                                                     [key], {});\n",
              "          if (!dataTable) return;\n",
              "\n",
              "          const docLinkHtml = 'Like what you see? Visit the ' +\n",
              "            '<a target=\"_blank\" href=https://colab.research.google.com/notebooks/data_table.ipynb>data table notebook</a>'\n",
              "            + ' to learn more about interactive tables.';\n",
              "          element.innerHTML = '';\n",
              "          dataTable['output_type'] = 'display_data';\n",
              "          await google.colab.output.renderOutput(dataTable, element);\n",
              "          const docLink = document.createElement('div');\n",
              "          docLink.innerHTML = docLinkHtml;\n",
              "          element.appendChild(docLink);\n",
              "        }\n",
              "      </script>\n",
              "    </div>\n",
              "  </div>\n",
              "  "
            ],
            "text/plain": [
              "  label                                               text\n",
              "0   ham  go jurong point crazy available bugis n great ...\n",
              "1   ham                            ok lar joking wif u oni\n",
              "2  spam  free entry wkly comp win fa cup final tkts st ...\n",
              "3   ham                u dun say early hor u c already say\n",
              "4   ham                nah think go usf life around though"
            ]
          },
          "metadata": {},
          "execution_count": 9
        }
      ]
    },
    {
      "cell_type": "code",
      "source": [
        "df.shape"
      ],
      "metadata": {
        "colab": {
          "base_uri": "https://localhost:8080/"
        },
        "id": "5lf9PJDYJG5a",
        "outputId": "4f13b87c-45fa-40fa-a623-2cb2f4630c72"
      },
      "id": "5lf9PJDYJG5a",
      "execution_count": null,
      "outputs": [
        {
          "output_type": "execute_result",
          "data": {
            "text/plain": [
              "(5058, 2)"
            ]
          },
          "metadata": {},
          "execution_count": 10
        }
      ]
    },
    {
      "cell_type": "code",
      "source": [
        "word_set=set()\n",
        "def calculatewordset(text):\n",
        "  global word_set\n",
        "  l=text.split()\n",
        "  word_set=word_set.union(set(l))"
      ],
      "metadata": {
        "id": "PBlTiJAA6g4J"
      },
      "id": "PBlTiJAA6g4J",
      "execution_count": null,
      "outputs": []
    },
    {
      "cell_type": "code",
      "source": [
        "\n",
        "def calculateworddict(text):\n",
        "  worddict=dict.fromkeys(word_set,0)\n",
        "  l=text.split()\n",
        "  for word in l:\n",
        "    worddict[word]+=1\n",
        "  return worddict"
      ],
      "metadata": {
        "id": "jlHm1xn_tO_p"
      },
      "id": "jlHm1xn_tO_p",
      "execution_count": null,
      "outputs": []
    },
    {
      "cell_type": "code",
      "source": [
        "def calculateTF(worddict):\n",
        "  tfdict={}\n",
        "  total_no_of_words=len(worddict)\n",
        "  for word,count in worddict.items():\n",
        "    tfdict[word]=count/float(total_no_of_words)\n",
        "  return tfdict\n"
      ],
      "metadata": {
        "id": "TvsnTOi2hGKQ"
      },
      "id": "TvsnTOi2hGKQ",
      "execution_count": null,
      "outputs": []
    },
    {
      "cell_type": "code",
      "source": [
        "df['text'].apply(lambda x: calculatewordset(x))"
      ],
      "metadata": {
        "id": "ZLlMejqQ71uP",
        "colab": {
          "base_uri": "https://localhost:8080/"
        },
        "outputId": "94c9a07e-6687-4baf-c005-056690fc04fb"
      },
      "id": "ZLlMejqQ71uP",
      "execution_count": null,
      "outputs": [
        {
          "output_type": "execute_result",
          "data": {
            "text/plain": [
              "0       None\n",
              "1       None\n",
              "2       None\n",
              "3       None\n",
              "4       None\n",
              "        ... \n",
              "5053    None\n",
              "5054    None\n",
              "5055    None\n",
              "5056    None\n",
              "5057    None\n",
              "Name: text, Length: 5058, dtype: object"
            ]
          },
          "metadata": {},
          "execution_count": 14
        }
      ]
    },
    {
      "cell_type": "code",
      "source": [
        "len(word_set)"
      ],
      "metadata": {
        "colab": {
          "base_uri": "https://localhost:8080/"
        },
        "id": "KpOyjkfk5xgs",
        "outputId": "22e5c73e-6210-49a5-d2ab-c95f191cc08a"
      },
      "id": "KpOyjkfk5xgs",
      "execution_count": null,
      "outputs": [
        {
          "output_type": "execute_result",
          "data": {
            "text/plain": [
              "7107"
            ]
          },
          "metadata": {},
          "execution_count": 15
        }
      ]
    },
    {
      "cell_type": "code",
      "source": [
        "worddf=df['text'].apply(lambda x: calculateworddict(x))"
      ],
      "metadata": {
        "id": "4eMMoTmvuuzJ"
      },
      "id": "4eMMoTmvuuzJ",
      "execution_count": null,
      "outputs": []
    },
    {
      "cell_type": "code",
      "source": [
        "worddf.head()"
      ],
      "metadata": {
        "id": "Uq1YsQ6cvk6V",
        "colab": {
          "base_uri": "https://localhost:8080/"
        },
        "outputId": "30497988-2136-47b4-be97-76f4c4d1fe8d"
      },
      "id": "Uq1YsQ6cvk6V",
      "execution_count": null,
      "outputs": [
        {
          "output_type": "execute_result",
          "data": {
            "text/plain": [
              "0    {'order': 0, 'sol': 0, 'euro': 0, 'phony': 0, ...\n",
              "1    {'order': 0, 'sol': 0, 'euro': 0, 'phony': 0, ...\n",
              "2    {'order': 0, 'sol': 0, 'euro': 0, 'phony': 0, ...\n",
              "3    {'order': 0, 'sol': 0, 'euro': 0, 'phony': 0, ...\n",
              "4    {'order': 0, 'sol': 0, 'euro': 0, 'phony': 0, ...\n",
              "Name: text, dtype: object"
            ]
          },
          "metadata": {},
          "execution_count": 17
        }
      ]
    },
    {
      "cell_type": "code",
      "source": [
        "worddf.shape"
      ],
      "metadata": {
        "colab": {
          "base_uri": "https://localhost:8080/"
        },
        "id": "KqxjSazPZI7Y",
        "outputId": "fc70319a-4be5-4764-dd0c-807ee1b2e271"
      },
      "id": "KqxjSazPZI7Y",
      "execution_count": null,
      "outputs": [
        {
          "output_type": "execute_result",
          "data": {
            "text/plain": [
              "(5058,)"
            ]
          },
          "metadata": {},
          "execution_count": 18
        }
      ]
    },
    {
      "cell_type": "code",
      "source": [
        "Tf=worddf.apply(lambda x: calculateTF(x))"
      ],
      "metadata": {
        "id": "b2VzHEucnlEU"
      },
      "id": "b2VzHEucnlEU",
      "execution_count": null,
      "outputs": []
    },
    {
      "cell_type": "code",
      "source": [
        "Tf.head()"
      ],
      "metadata": {
        "colab": {
          "base_uri": "https://localhost:8080/"
        },
        "id": "99I1vrTTeje2",
        "outputId": "8d89b83d-34d7-42ba-d346-3f01c194f17f"
      },
      "id": "99I1vrTTeje2",
      "execution_count": null,
      "outputs": [
        {
          "output_type": "execute_result",
          "data": {
            "text/plain": [
              "0    {'order': 0.0, 'sol': 0.0, 'euro': 0.0, 'phony...\n",
              "1    {'order': 0.0, 'sol': 0.0, 'euro': 0.0, 'phony...\n",
              "2    {'order': 0.0, 'sol': 0.0, 'euro': 0.0, 'phony...\n",
              "3    {'order': 0.0, 'sol': 0.0, 'euro': 0.0, 'phony...\n",
              "4    {'order': 0.0, 'sol': 0.0, 'euro': 0.0, 'phony...\n",
              "Name: text, dtype: object"
            ]
          },
          "metadata": {},
          "execution_count": 20
        }
      ]
    },
    {
      "cell_type": "code",
      "source": [
        "No_of_sentences=Tf.shape[0]\n",
        "idfdict={}\n",
        "idfdict=dict.fromkeys(word_set,0)\n",
        "def calculateIDF(worddict):\n",
        "  for word,value in worddict.items():\n",
        "    if(value>0):\n",
        "      idfdict[word]+=1\n"
      ],
      "metadata": {
        "id": "3YOJl3WupoFC"
      },
      "id": "3YOJl3WupoFC",
      "execution_count": null,
      "outputs": []
    },
    {
      "cell_type": "code",
      "source": [
        "worddf.apply(lambda x: calculateIDF(x))\n"
      ],
      "metadata": {
        "colab": {
          "base_uri": "https://localhost:8080/"
        },
        "id": "oIgEB8uh1KA2",
        "outputId": "e0af6e6f-cd79-4571-b3ec-49938fd2a513"
      },
      "id": "oIgEB8uh1KA2",
      "execution_count": null,
      "outputs": [
        {
          "output_type": "execute_result",
          "data": {
            "text/plain": [
              "0       None\n",
              "1       None\n",
              "2       None\n",
              "3       None\n",
              "4       None\n",
              "        ... \n",
              "5053    None\n",
              "5054    None\n",
              "5055    None\n",
              "5056    None\n",
              "5057    None\n",
              "Name: text, Length: 5058, dtype: object"
            ]
          },
          "metadata": {},
          "execution_count": 23
        }
      ]
    },
    {
      "cell_type": "code",
      "source": [
        "Tfdataframe=pd.DataFrame.from_records(Tf)"
      ],
      "metadata": {
        "id": "9pIPtT86sv6l"
      },
      "id": "9pIPtT86sv6l",
      "execution_count": null,
      "outputs": []
    },
    {
      "cell_type": "code",
      "source": [
        "Tfdataframe.head()"
      ],
      "metadata": {
        "colab": {
          "base_uri": "https://localhost:8080/",
          "height": 299
        },
        "id": "bwcEE3HjxvZT",
        "outputId": "5b0bc1bb-e377-431d-c047-f1378673c9df"
      },
      "id": "bwcEE3HjxvZT",
      "execution_count": null,
      "outputs": [
        {
          "output_type": "execute_result",
          "data": {
            "text/html": [
              "\n",
              "  <div id=\"df-86b1046a-6ee8-43b7-928a-9e6b98f8f5aa\">\n",
              "    <div class=\"colab-df-container\">\n",
              "      <div>\n",
              "<style scoped>\n",
              "    .dataframe tbody tr th:only-of-type {\n",
              "        vertical-align: middle;\n",
              "    }\n",
              "\n",
              "    .dataframe tbody tr th {\n",
              "        vertical-align: top;\n",
              "    }\n",
              "\n",
              "    .dataframe thead th {\n",
              "        text-align: right;\n",
              "    }\n",
              "</style>\n",
              "<table border=\"1\" class=\"dataframe\">\n",
              "  <thead>\n",
              "    <tr style=\"text-align: right;\">\n",
              "      <th></th>\n",
              "      <th>order</th>\n",
              "      <th>sol</th>\n",
              "      <th>euro</th>\n",
              "      <th>phony</th>\n",
              "      <th>quoting</th>\n",
              "      <th>torch</th>\n",
              "      <th>av</th>\n",
              "      <th>sneham</th>\n",
              "      <th>chick</th>\n",
              "      <th>hehe</th>\n",
              "      <th>goodo</th>\n",
              "      <th>muhommad</th>\n",
              "      <th>becz</th>\n",
              "      <th>lucozade</th>\n",
              "      <th>ti</th>\n",
              "      <th>gdeve</th>\n",
              "      <th>replying</th>\n",
              "      <th>hum</th>\n",
              "      <th>holby</th>\n",
              "      <th>jobyet</th>\n",
              "      <th>incomm</th>\n",
              "      <th>paid</th>\n",
              "      <th>wesley</th>\n",
              "      <th>aphex</th>\n",
              "      <th>amanda</th>\n",
              "      <th>single</th>\n",
              "      <th>nokias</th>\n",
              "      <th>mg</th>\n",
              "      <th>fried</th>\n",
              "      <th>disagreeable</th>\n",
              "      <th>yup</th>\n",
              "      <th>canname</th>\n",
              "      <th>active</th>\n",
              "      <th>uin</th>\n",
              "      <th>gin</th>\n",
              "      <th>tolerat</th>\n",
              "      <th>nora</th>\n",
              "      <th>jet</th>\n",
              "      <th>ummmmmaah</th>\n",
              "      <th>ystrday</th>\n",
              "      <th>...</th>\n",
              "      <th>pas</th>\n",
              "      <th>hitter</th>\n",
              "      <th>britney</th>\n",
              "      <th>fact</th>\n",
              "      <th>ldew</th>\n",
              "      <th>billy</th>\n",
              "      <th>th</th>\n",
              "      <th>owned</th>\n",
              "      <th>westshore</th>\n",
              "      <th>frwd</th>\n",
              "      <th>responsible</th>\n",
              "      <th>nonetheless</th>\n",
              "      <th>replacing</th>\n",
              "      <th>roommate</th>\n",
              "      <th>wiv</th>\n",
              "      <th>brighten</th>\n",
              "      <th>inpersonation</th>\n",
              "      <th>resizing</th>\n",
              "      <th>march</th>\n",
              "      <th>spiritual</th>\n",
              "      <th>remb</th>\n",
              "      <th>holiday</th>\n",
              "      <th>mushy</th>\n",
              "      <th>greatness</th>\n",
              "      <th>drove</th>\n",
              "      <th>whose</th>\n",
              "      <th>ppw</th>\n",
              "      <th>enjoy</th>\n",
              "      <th>offered</th>\n",
              "      <th>field</th>\n",
              "      <th>meow</th>\n",
              "      <th>cttargg</th>\n",
              "      <th>lovable</th>\n",
              "      <th>blogging</th>\n",
              "      <th>loverboy</th>\n",
              "      <th>huh</th>\n",
              "      <th>absolutly</th>\n",
              "      <th>river</th>\n",
              "      <th>notified</th>\n",
              "      <th>reasonable</th>\n",
              "    </tr>\n",
              "  </thead>\n",
              "  <tbody>\n",
              "    <tr>\n",
              "      <th>0</th>\n",
              "      <td>0.0</td>\n",
              "      <td>0.0</td>\n",
              "      <td>0.0</td>\n",
              "      <td>0.0</td>\n",
              "      <td>0.0</td>\n",
              "      <td>0.0</td>\n",
              "      <td>0.0</td>\n",
              "      <td>0.0</td>\n",
              "      <td>0.0</td>\n",
              "      <td>0.0</td>\n",
              "      <td>0.0</td>\n",
              "      <td>0.0</td>\n",
              "      <td>0.0</td>\n",
              "      <td>0.0</td>\n",
              "      <td>0.0</td>\n",
              "      <td>0.0</td>\n",
              "      <td>0.0</td>\n",
              "      <td>0.0</td>\n",
              "      <td>0.0</td>\n",
              "      <td>0.0</td>\n",
              "      <td>0.0</td>\n",
              "      <td>0.0</td>\n",
              "      <td>0.0</td>\n",
              "      <td>0.0</td>\n",
              "      <td>0.0</td>\n",
              "      <td>0.0</td>\n",
              "      <td>0.0</td>\n",
              "      <td>0.0</td>\n",
              "      <td>0.0</td>\n",
              "      <td>0.0</td>\n",
              "      <td>0.0</td>\n",
              "      <td>0.0</td>\n",
              "      <td>0.0</td>\n",
              "      <td>0.0</td>\n",
              "      <td>0.0</td>\n",
              "      <td>0.0</td>\n",
              "      <td>0.0</td>\n",
              "      <td>0.0</td>\n",
              "      <td>0.0</td>\n",
              "      <td>0.0</td>\n",
              "      <td>...</td>\n",
              "      <td>0.0</td>\n",
              "      <td>0.0</td>\n",
              "      <td>0.0</td>\n",
              "      <td>0.0</td>\n",
              "      <td>0.0</td>\n",
              "      <td>0.0</td>\n",
              "      <td>0.0</td>\n",
              "      <td>0.0</td>\n",
              "      <td>0.0</td>\n",
              "      <td>0.0</td>\n",
              "      <td>0.0</td>\n",
              "      <td>0.0</td>\n",
              "      <td>0.0</td>\n",
              "      <td>0.0</td>\n",
              "      <td>0.0</td>\n",
              "      <td>0.0</td>\n",
              "      <td>0.0</td>\n",
              "      <td>0.0</td>\n",
              "      <td>0.0</td>\n",
              "      <td>0.0</td>\n",
              "      <td>0.0</td>\n",
              "      <td>0.0</td>\n",
              "      <td>0.0</td>\n",
              "      <td>0.0</td>\n",
              "      <td>0.0</td>\n",
              "      <td>0.0</td>\n",
              "      <td>0.0</td>\n",
              "      <td>0.0</td>\n",
              "      <td>0.0</td>\n",
              "      <td>0.0</td>\n",
              "      <td>0.0</td>\n",
              "      <td>0.0</td>\n",
              "      <td>0.0</td>\n",
              "      <td>0.0</td>\n",
              "      <td>0.0</td>\n",
              "      <td>0.0</td>\n",
              "      <td>0.0</td>\n",
              "      <td>0.0</td>\n",
              "      <td>0.0</td>\n",
              "      <td>0.0</td>\n",
              "    </tr>\n",
              "    <tr>\n",
              "      <th>1</th>\n",
              "      <td>0.0</td>\n",
              "      <td>0.0</td>\n",
              "      <td>0.0</td>\n",
              "      <td>0.0</td>\n",
              "      <td>0.0</td>\n",
              "      <td>0.0</td>\n",
              "      <td>0.0</td>\n",
              "      <td>0.0</td>\n",
              "      <td>0.0</td>\n",
              "      <td>0.0</td>\n",
              "      <td>0.0</td>\n",
              "      <td>0.0</td>\n",
              "      <td>0.0</td>\n",
              "      <td>0.0</td>\n",
              "      <td>0.0</td>\n",
              "      <td>0.0</td>\n",
              "      <td>0.0</td>\n",
              "      <td>0.0</td>\n",
              "      <td>0.0</td>\n",
              "      <td>0.0</td>\n",
              "      <td>0.0</td>\n",
              "      <td>0.0</td>\n",
              "      <td>0.0</td>\n",
              "      <td>0.0</td>\n",
              "      <td>0.0</td>\n",
              "      <td>0.0</td>\n",
              "      <td>0.0</td>\n",
              "      <td>0.0</td>\n",
              "      <td>0.0</td>\n",
              "      <td>0.0</td>\n",
              "      <td>0.0</td>\n",
              "      <td>0.0</td>\n",
              "      <td>0.0</td>\n",
              "      <td>0.0</td>\n",
              "      <td>0.0</td>\n",
              "      <td>0.0</td>\n",
              "      <td>0.0</td>\n",
              "      <td>0.0</td>\n",
              "      <td>0.0</td>\n",
              "      <td>0.0</td>\n",
              "      <td>...</td>\n",
              "      <td>0.0</td>\n",
              "      <td>0.0</td>\n",
              "      <td>0.0</td>\n",
              "      <td>0.0</td>\n",
              "      <td>0.0</td>\n",
              "      <td>0.0</td>\n",
              "      <td>0.0</td>\n",
              "      <td>0.0</td>\n",
              "      <td>0.0</td>\n",
              "      <td>0.0</td>\n",
              "      <td>0.0</td>\n",
              "      <td>0.0</td>\n",
              "      <td>0.0</td>\n",
              "      <td>0.0</td>\n",
              "      <td>0.0</td>\n",
              "      <td>0.0</td>\n",
              "      <td>0.0</td>\n",
              "      <td>0.0</td>\n",
              "      <td>0.0</td>\n",
              "      <td>0.0</td>\n",
              "      <td>0.0</td>\n",
              "      <td>0.0</td>\n",
              "      <td>0.0</td>\n",
              "      <td>0.0</td>\n",
              "      <td>0.0</td>\n",
              "      <td>0.0</td>\n",
              "      <td>0.0</td>\n",
              "      <td>0.0</td>\n",
              "      <td>0.0</td>\n",
              "      <td>0.0</td>\n",
              "      <td>0.0</td>\n",
              "      <td>0.0</td>\n",
              "      <td>0.0</td>\n",
              "      <td>0.0</td>\n",
              "      <td>0.0</td>\n",
              "      <td>0.0</td>\n",
              "      <td>0.0</td>\n",
              "      <td>0.0</td>\n",
              "      <td>0.0</td>\n",
              "      <td>0.0</td>\n",
              "    </tr>\n",
              "    <tr>\n",
              "      <th>2</th>\n",
              "      <td>0.0</td>\n",
              "      <td>0.0</td>\n",
              "      <td>0.0</td>\n",
              "      <td>0.0</td>\n",
              "      <td>0.0</td>\n",
              "      <td>0.0</td>\n",
              "      <td>0.0</td>\n",
              "      <td>0.0</td>\n",
              "      <td>0.0</td>\n",
              "      <td>0.0</td>\n",
              "      <td>0.0</td>\n",
              "      <td>0.0</td>\n",
              "      <td>0.0</td>\n",
              "      <td>0.0</td>\n",
              "      <td>0.0</td>\n",
              "      <td>0.0</td>\n",
              "      <td>0.0</td>\n",
              "      <td>0.0</td>\n",
              "      <td>0.0</td>\n",
              "      <td>0.0</td>\n",
              "      <td>0.0</td>\n",
              "      <td>0.0</td>\n",
              "      <td>0.0</td>\n",
              "      <td>0.0</td>\n",
              "      <td>0.0</td>\n",
              "      <td>0.0</td>\n",
              "      <td>0.0</td>\n",
              "      <td>0.0</td>\n",
              "      <td>0.0</td>\n",
              "      <td>0.0</td>\n",
              "      <td>0.0</td>\n",
              "      <td>0.0</td>\n",
              "      <td>0.0</td>\n",
              "      <td>0.0</td>\n",
              "      <td>0.0</td>\n",
              "      <td>0.0</td>\n",
              "      <td>0.0</td>\n",
              "      <td>0.0</td>\n",
              "      <td>0.0</td>\n",
              "      <td>0.0</td>\n",
              "      <td>...</td>\n",
              "      <td>0.0</td>\n",
              "      <td>0.0</td>\n",
              "      <td>0.0</td>\n",
              "      <td>0.0</td>\n",
              "      <td>0.0</td>\n",
              "      <td>0.0</td>\n",
              "      <td>0.0</td>\n",
              "      <td>0.0</td>\n",
              "      <td>0.0</td>\n",
              "      <td>0.0</td>\n",
              "      <td>0.0</td>\n",
              "      <td>0.0</td>\n",
              "      <td>0.0</td>\n",
              "      <td>0.0</td>\n",
              "      <td>0.0</td>\n",
              "      <td>0.0</td>\n",
              "      <td>0.0</td>\n",
              "      <td>0.0</td>\n",
              "      <td>0.0</td>\n",
              "      <td>0.0</td>\n",
              "      <td>0.0</td>\n",
              "      <td>0.0</td>\n",
              "      <td>0.0</td>\n",
              "      <td>0.0</td>\n",
              "      <td>0.0</td>\n",
              "      <td>0.0</td>\n",
              "      <td>0.0</td>\n",
              "      <td>0.0</td>\n",
              "      <td>0.0</td>\n",
              "      <td>0.0</td>\n",
              "      <td>0.0</td>\n",
              "      <td>0.0</td>\n",
              "      <td>0.0</td>\n",
              "      <td>0.0</td>\n",
              "      <td>0.0</td>\n",
              "      <td>0.0</td>\n",
              "      <td>0.0</td>\n",
              "      <td>0.0</td>\n",
              "      <td>0.0</td>\n",
              "      <td>0.0</td>\n",
              "    </tr>\n",
              "    <tr>\n",
              "      <th>3</th>\n",
              "      <td>0.0</td>\n",
              "      <td>0.0</td>\n",
              "      <td>0.0</td>\n",
              "      <td>0.0</td>\n",
              "      <td>0.0</td>\n",
              "      <td>0.0</td>\n",
              "      <td>0.0</td>\n",
              "      <td>0.0</td>\n",
              "      <td>0.0</td>\n",
              "      <td>0.0</td>\n",
              "      <td>0.0</td>\n",
              "      <td>0.0</td>\n",
              "      <td>0.0</td>\n",
              "      <td>0.0</td>\n",
              "      <td>0.0</td>\n",
              "      <td>0.0</td>\n",
              "      <td>0.0</td>\n",
              "      <td>0.0</td>\n",
              "      <td>0.0</td>\n",
              "      <td>0.0</td>\n",
              "      <td>0.0</td>\n",
              "      <td>0.0</td>\n",
              "      <td>0.0</td>\n",
              "      <td>0.0</td>\n",
              "      <td>0.0</td>\n",
              "      <td>0.0</td>\n",
              "      <td>0.0</td>\n",
              "      <td>0.0</td>\n",
              "      <td>0.0</td>\n",
              "      <td>0.0</td>\n",
              "      <td>0.0</td>\n",
              "      <td>0.0</td>\n",
              "      <td>0.0</td>\n",
              "      <td>0.0</td>\n",
              "      <td>0.0</td>\n",
              "      <td>0.0</td>\n",
              "      <td>0.0</td>\n",
              "      <td>0.0</td>\n",
              "      <td>0.0</td>\n",
              "      <td>0.0</td>\n",
              "      <td>...</td>\n",
              "      <td>0.0</td>\n",
              "      <td>0.0</td>\n",
              "      <td>0.0</td>\n",
              "      <td>0.0</td>\n",
              "      <td>0.0</td>\n",
              "      <td>0.0</td>\n",
              "      <td>0.0</td>\n",
              "      <td>0.0</td>\n",
              "      <td>0.0</td>\n",
              "      <td>0.0</td>\n",
              "      <td>0.0</td>\n",
              "      <td>0.0</td>\n",
              "      <td>0.0</td>\n",
              "      <td>0.0</td>\n",
              "      <td>0.0</td>\n",
              "      <td>0.0</td>\n",
              "      <td>0.0</td>\n",
              "      <td>0.0</td>\n",
              "      <td>0.0</td>\n",
              "      <td>0.0</td>\n",
              "      <td>0.0</td>\n",
              "      <td>0.0</td>\n",
              "      <td>0.0</td>\n",
              "      <td>0.0</td>\n",
              "      <td>0.0</td>\n",
              "      <td>0.0</td>\n",
              "      <td>0.0</td>\n",
              "      <td>0.0</td>\n",
              "      <td>0.0</td>\n",
              "      <td>0.0</td>\n",
              "      <td>0.0</td>\n",
              "      <td>0.0</td>\n",
              "      <td>0.0</td>\n",
              "      <td>0.0</td>\n",
              "      <td>0.0</td>\n",
              "      <td>0.0</td>\n",
              "      <td>0.0</td>\n",
              "      <td>0.0</td>\n",
              "      <td>0.0</td>\n",
              "      <td>0.0</td>\n",
              "    </tr>\n",
              "    <tr>\n",
              "      <th>4</th>\n",
              "      <td>0.0</td>\n",
              "      <td>0.0</td>\n",
              "      <td>0.0</td>\n",
              "      <td>0.0</td>\n",
              "      <td>0.0</td>\n",
              "      <td>0.0</td>\n",
              "      <td>0.0</td>\n",
              "      <td>0.0</td>\n",
              "      <td>0.0</td>\n",
              "      <td>0.0</td>\n",
              "      <td>0.0</td>\n",
              "      <td>0.0</td>\n",
              "      <td>0.0</td>\n",
              "      <td>0.0</td>\n",
              "      <td>0.0</td>\n",
              "      <td>0.0</td>\n",
              "      <td>0.0</td>\n",
              "      <td>0.0</td>\n",
              "      <td>0.0</td>\n",
              "      <td>0.0</td>\n",
              "      <td>0.0</td>\n",
              "      <td>0.0</td>\n",
              "      <td>0.0</td>\n",
              "      <td>0.0</td>\n",
              "      <td>0.0</td>\n",
              "      <td>0.0</td>\n",
              "      <td>0.0</td>\n",
              "      <td>0.0</td>\n",
              "      <td>0.0</td>\n",
              "      <td>0.0</td>\n",
              "      <td>0.0</td>\n",
              "      <td>0.0</td>\n",
              "      <td>0.0</td>\n",
              "      <td>0.0</td>\n",
              "      <td>0.0</td>\n",
              "      <td>0.0</td>\n",
              "      <td>0.0</td>\n",
              "      <td>0.0</td>\n",
              "      <td>0.0</td>\n",
              "      <td>0.0</td>\n",
              "      <td>...</td>\n",
              "      <td>0.0</td>\n",
              "      <td>0.0</td>\n",
              "      <td>0.0</td>\n",
              "      <td>0.0</td>\n",
              "      <td>0.0</td>\n",
              "      <td>0.0</td>\n",
              "      <td>0.0</td>\n",
              "      <td>0.0</td>\n",
              "      <td>0.0</td>\n",
              "      <td>0.0</td>\n",
              "      <td>0.0</td>\n",
              "      <td>0.0</td>\n",
              "      <td>0.0</td>\n",
              "      <td>0.0</td>\n",
              "      <td>0.0</td>\n",
              "      <td>0.0</td>\n",
              "      <td>0.0</td>\n",
              "      <td>0.0</td>\n",
              "      <td>0.0</td>\n",
              "      <td>0.0</td>\n",
              "      <td>0.0</td>\n",
              "      <td>0.0</td>\n",
              "      <td>0.0</td>\n",
              "      <td>0.0</td>\n",
              "      <td>0.0</td>\n",
              "      <td>0.0</td>\n",
              "      <td>0.0</td>\n",
              "      <td>0.0</td>\n",
              "      <td>0.0</td>\n",
              "      <td>0.0</td>\n",
              "      <td>0.0</td>\n",
              "      <td>0.0</td>\n",
              "      <td>0.0</td>\n",
              "      <td>0.0</td>\n",
              "      <td>0.0</td>\n",
              "      <td>0.0</td>\n",
              "      <td>0.0</td>\n",
              "      <td>0.0</td>\n",
              "      <td>0.0</td>\n",
              "      <td>0.0</td>\n",
              "    </tr>\n",
              "  </tbody>\n",
              "</table>\n",
              "<p>5 rows × 7107 columns</p>\n",
              "</div>\n",
              "      <button class=\"colab-df-convert\" onclick=\"convertToInteractive('df-86b1046a-6ee8-43b7-928a-9e6b98f8f5aa')\"\n",
              "              title=\"Convert this dataframe to an interactive table.\"\n",
              "              style=\"display:none;\">\n",
              "        \n",
              "  <svg xmlns=\"http://www.w3.org/2000/svg\" height=\"24px\"viewBox=\"0 0 24 24\"\n",
              "       width=\"24px\">\n",
              "    <path d=\"M0 0h24v24H0V0z\" fill=\"none\"/>\n",
              "    <path d=\"M18.56 5.44l.94 2.06.94-2.06 2.06-.94-2.06-.94-.94-2.06-.94 2.06-2.06.94zm-11 1L8.5 8.5l.94-2.06 2.06-.94-2.06-.94L8.5 2.5l-.94 2.06-2.06.94zm10 10l.94 2.06.94-2.06 2.06-.94-2.06-.94-.94-2.06-.94 2.06-2.06.94z\"/><path d=\"M17.41 7.96l-1.37-1.37c-.4-.4-.92-.59-1.43-.59-.52 0-1.04.2-1.43.59L10.3 9.45l-7.72 7.72c-.78.78-.78 2.05 0 2.83L4 21.41c.39.39.9.59 1.41.59.51 0 1.02-.2 1.41-.59l7.78-7.78 2.81-2.81c.8-.78.8-2.07 0-2.86zM5.41 20L4 18.59l7.72-7.72 1.47 1.35L5.41 20z\"/>\n",
              "  </svg>\n",
              "      </button>\n",
              "      \n",
              "  <style>\n",
              "    .colab-df-container {\n",
              "      display:flex;\n",
              "      flex-wrap:wrap;\n",
              "      gap: 12px;\n",
              "    }\n",
              "\n",
              "    .colab-df-convert {\n",
              "      background-color: #E8F0FE;\n",
              "      border: none;\n",
              "      border-radius: 50%;\n",
              "      cursor: pointer;\n",
              "      display: none;\n",
              "      fill: #1967D2;\n",
              "      height: 32px;\n",
              "      padding: 0 0 0 0;\n",
              "      width: 32px;\n",
              "    }\n",
              "\n",
              "    .colab-df-convert:hover {\n",
              "      background-color: #E2EBFA;\n",
              "      box-shadow: 0px 1px 2px rgba(60, 64, 67, 0.3), 0px 1px 3px 1px rgba(60, 64, 67, 0.15);\n",
              "      fill: #174EA6;\n",
              "    }\n",
              "\n",
              "    [theme=dark] .colab-df-convert {\n",
              "      background-color: #3B4455;\n",
              "      fill: #D2E3FC;\n",
              "    }\n",
              "\n",
              "    [theme=dark] .colab-df-convert:hover {\n",
              "      background-color: #434B5C;\n",
              "      box-shadow: 0px 1px 3px 1px rgba(0, 0, 0, 0.15);\n",
              "      filter: drop-shadow(0px 1px 2px rgba(0, 0, 0, 0.3));\n",
              "      fill: #FFFFFF;\n",
              "    }\n",
              "  </style>\n",
              "\n",
              "      <script>\n",
              "        const buttonEl =\n",
              "          document.querySelector('#df-86b1046a-6ee8-43b7-928a-9e6b98f8f5aa button.colab-df-convert');\n",
              "        buttonEl.style.display =\n",
              "          google.colab.kernel.accessAllowed ? 'block' : 'none';\n",
              "\n",
              "        async function convertToInteractive(key) {\n",
              "          const element = document.querySelector('#df-86b1046a-6ee8-43b7-928a-9e6b98f8f5aa');\n",
              "          const dataTable =\n",
              "            await google.colab.kernel.invokeFunction('convertToInteractive',\n",
              "                                                     [key], {});\n",
              "          if (!dataTable) return;\n",
              "\n",
              "          const docLinkHtml = 'Like what you see? Visit the ' +\n",
              "            '<a target=\"_blank\" href=https://colab.research.google.com/notebooks/data_table.ipynb>data table notebook</a>'\n",
              "            + ' to learn more about interactive tables.';\n",
              "          element.innerHTML = '';\n",
              "          dataTable['output_type'] = 'display_data';\n",
              "          await google.colab.output.renderOutput(dataTable, element);\n",
              "          const docLink = document.createElement('div');\n",
              "          docLink.innerHTML = docLinkHtml;\n",
              "          element.appendChild(docLink);\n",
              "        }\n",
              "      </script>\n",
              "    </div>\n",
              "  </div>\n",
              "  "
            ],
            "text/plain": [
              "   order  sol  euro  phony  ...  absolutly  river  notified  reasonable\n",
              "0    0.0  0.0   0.0    0.0  ...        0.0    0.0       0.0         0.0\n",
              "1    0.0  0.0   0.0    0.0  ...        0.0    0.0       0.0         0.0\n",
              "2    0.0  0.0   0.0    0.0  ...        0.0    0.0       0.0         0.0\n",
              "3    0.0  0.0   0.0    0.0  ...        0.0    0.0       0.0         0.0\n",
              "4    0.0  0.0   0.0    0.0  ...        0.0    0.0       0.0         0.0\n",
              "\n",
              "[5 rows x 7107 columns]"
            ]
          },
          "metadata": {},
          "execution_count": 26
        }
      ]
    },
    {
      "cell_type": "code",
      "source": [
        "def calculateTFIDF():\n",
        "  for word,val in idfdict.items():\n",
        "    idfdict[word]=math.log10(No_of_sentences/float(val))\n",
        "  idfseries=pd.Series(idfdict)\n",
        "  tfidf=Tfdataframe.mul(idfseries)\n",
        "  return tfidf"
      ],
      "metadata": {
        "id": "MImdry9N4if2"
      },
      "id": "MImdry9N4if2",
      "execution_count": null,
      "outputs": []
    },
    {
      "cell_type": "code",
      "source": [
        "tfidf_dataframe=calculateTFIDF()"
      ],
      "metadata": {
        "id": "5-vvveO8y-eM"
      },
      "id": "5-vvveO8y-eM",
      "execution_count": null,
      "outputs": []
    },
    {
      "cell_type": "code",
      "source": [
        "tfidf_dataframe['label']=df['label']"
      ],
      "metadata": {
        "id": "OJsGfppcy-Yk"
      },
      "id": "OJsGfppcy-Yk",
      "execution_count": null,
      "outputs": []
    },
    {
      "cell_type": "code",
      "source": [
        "tfidf_dataframe.iloc[103]['label']"
      ],
      "metadata": {
        "colab": {
          "base_uri": "https://localhost:8080/",
          "height": 35
        },
        "id": "NPTYwbTty-VE",
        "outputId": "5876f7ad-1ae1-468b-ecf4-e2f03a046e69"
      },
      "id": "NPTYwbTty-VE",
      "execution_count": null,
      "outputs": [
        {
          "output_type": "execute_result",
          "data": {
            "application/vnd.google.colaboratory.intrinsic+json": {
              "type": "string"
            },
            "text/plain": [
              "'ham'"
            ]
          },
          "metadata": {},
          "execution_count": 30
        }
      ]
    },
    {
      "cell_type": "code",
      "source": [
        ""
      ],
      "metadata": {
        "id": "vQ0ugfcRGuJf"
      },
      "id": "vQ0ugfcRGuJf",
      "execution_count": null,
      "outputs": []
    },
    {
      "cell_type": "markdown",
      "id": "f76767a7",
      "metadata": {
        "id": "f76767a7"
      },
      "source": [
        "### Split data"
      ]
    },
    {
      "cell_type": "code",
      "execution_count": null,
      "id": "f75e6cd2",
      "metadata": {
        "id": "f75e6cd2"
      },
      "outputs": [],
      "source": [
        "y=tfidf_dataframe.pop('label')\n",
        "x=tfidf_dataframe"
      ]
    },
    {
      "cell_type": "code",
      "source": [
        "y=y.map({\"spam\":1,\"ham\":0})"
      ],
      "metadata": {
        "id": "QJPL2aJV_rHX"
      },
      "id": "QJPL2aJV_rHX",
      "execution_count": null,
      "outputs": []
    },
    {
      "cell_type": "code",
      "source": [
        "y[y.isna()]"
      ],
      "metadata": {
        "colab": {
          "base_uri": "https://localhost:8080/"
        },
        "id": "5pGWbecWL5mh",
        "outputId": "8113f806-2ed8-4614-ec4e-13b440337562"
      },
      "id": "5pGWbecWL5mh",
      "execution_count": null,
      "outputs": [
        {
          "output_type": "execute_result",
          "data": {
            "text/plain": [
              "Series([], Name: label, dtype: int64)"
            ]
          },
          "metadata": {},
          "execution_count": 82
        }
      ]
    },
    {
      "cell_type": "code",
      "source": [
        "X_train,X_test,Y_train,Y_test=train_test_split(x,y,test_size=0.2,stratify=y)\n"
      ],
      "metadata": {
        "id": "oa2Yn9JMKR7F"
      },
      "id": "oa2Yn9JMKR7F",
      "execution_count": null,
      "outputs": []
    },
    {
      "cell_type": "code",
      "source": [
        "X_test.shape"
      ],
      "metadata": {
        "colab": {
          "base_uri": "https://localhost:8080/"
        },
        "id": "DnP5AssmjKVW",
        "outputId": "029d117d-944a-44c3-9e3d-4e106121c41d"
      },
      "id": "DnP5AssmjKVW",
      "execution_count": null,
      "outputs": [
        {
          "output_type": "execute_result",
          "data": {
            "text/plain": [
              "(1012, 7107)"
            ]
          },
          "metadata": {},
          "execution_count": 34
        }
      ]
    },
    {
      "cell_type": "code",
      "source": [
        "Y_test.shape"
      ],
      "metadata": {
        "colab": {
          "base_uri": "https://localhost:8080/"
        },
        "id": "98rZm5g1jNnu",
        "outputId": "2bc0bb56-3524-47b9-d8f8-8d6ba00e4c15"
      },
      "id": "98rZm5g1jNnu",
      "execution_count": null,
      "outputs": [
        {
          "output_type": "execute_result",
          "data": {
            "text/plain": [
              "(1012,)"
            ]
          },
          "metadata": {},
          "execution_count": 35
        }
      ]
    },
    {
      "cell_type": "code",
      "source": [
        "X_valid,X_test,Y_valid,Y_test=train_test_split(X_test,Y_test,test_size=0.5,stratify=Y_test)"
      ],
      "metadata": {
        "id": "umbjIwynjJIp"
      },
      "id": "umbjIwynjJIp",
      "execution_count": null,
      "outputs": []
    },
    {
      "cell_type": "code",
      "source": [
        "Y_train.value_counts()"
      ],
      "metadata": {
        "colab": {
          "base_uri": "https://localhost:8080/"
        },
        "id": "zK78vA8vkd13",
        "outputId": "6249920e-3987-456e-a8c0-d3c89d8de802"
      },
      "id": "zK78vA8vkd13",
      "execution_count": null,
      "outputs": [
        {
          "output_type": "execute_result",
          "data": {
            "text/plain": [
              "0    3582\n",
              "1     464\n",
              "Name: label, dtype: int64"
            ]
          },
          "metadata": {},
          "execution_count": 37
        }
      ]
    },
    {
      "cell_type": "code",
      "source": [
        "Y_test.value_counts()"
      ],
      "metadata": {
        "colab": {
          "base_uri": "https://localhost:8080/"
        },
        "id": "b9fyvmBLkh2j",
        "outputId": "160099ef-ee59-40f5-a2ab-37bf5461a797"
      },
      "id": "b9fyvmBLkh2j",
      "execution_count": null,
      "outputs": [
        {
          "output_type": "execute_result",
          "data": {
            "text/plain": [
              "0    448\n",
              "1     58\n",
              "Name: label, dtype: int64"
            ]
          },
          "metadata": {},
          "execution_count": 38
        }
      ]
    },
    {
      "cell_type": "code",
      "source": [
        "X_train.head()"
      ],
      "metadata": {
        "colab": {
          "base_uri": "https://localhost:8080/",
          "height": 299
        },
        "id": "nPdPv1NOTv_4",
        "outputId": "29e57047-d636-4ddf-a854-b991269d929f"
      },
      "id": "nPdPv1NOTv_4",
      "execution_count": null,
      "outputs": [
        {
          "output_type": "execute_result",
          "data": {
            "text/html": [
              "\n",
              "  <div id=\"df-e1314a9a-fe48-4e04-86f7-04b4d6d6584d\">\n",
              "    <div class=\"colab-df-container\">\n",
              "      <div>\n",
              "<style scoped>\n",
              "    .dataframe tbody tr th:only-of-type {\n",
              "        vertical-align: middle;\n",
              "    }\n",
              "\n",
              "    .dataframe tbody tr th {\n",
              "        vertical-align: top;\n",
              "    }\n",
              "\n",
              "    .dataframe thead th {\n",
              "        text-align: right;\n",
              "    }\n",
              "</style>\n",
              "<table border=\"1\" class=\"dataframe\">\n",
              "  <thead>\n",
              "    <tr style=\"text-align: right;\">\n",
              "      <th></th>\n",
              "      <th>order</th>\n",
              "      <th>sol</th>\n",
              "      <th>euro</th>\n",
              "      <th>phony</th>\n",
              "      <th>quoting</th>\n",
              "      <th>torch</th>\n",
              "      <th>av</th>\n",
              "      <th>sneham</th>\n",
              "      <th>chick</th>\n",
              "      <th>hehe</th>\n",
              "      <th>goodo</th>\n",
              "      <th>muhommad</th>\n",
              "      <th>becz</th>\n",
              "      <th>lucozade</th>\n",
              "      <th>ti</th>\n",
              "      <th>gdeve</th>\n",
              "      <th>replying</th>\n",
              "      <th>hum</th>\n",
              "      <th>holby</th>\n",
              "      <th>jobyet</th>\n",
              "      <th>incomm</th>\n",
              "      <th>paid</th>\n",
              "      <th>wesley</th>\n",
              "      <th>aphex</th>\n",
              "      <th>amanda</th>\n",
              "      <th>single</th>\n",
              "      <th>nokias</th>\n",
              "      <th>mg</th>\n",
              "      <th>fried</th>\n",
              "      <th>disagreeable</th>\n",
              "      <th>yup</th>\n",
              "      <th>canname</th>\n",
              "      <th>active</th>\n",
              "      <th>uin</th>\n",
              "      <th>gin</th>\n",
              "      <th>tolerat</th>\n",
              "      <th>nora</th>\n",
              "      <th>jet</th>\n",
              "      <th>ummmmmaah</th>\n",
              "      <th>ystrday</th>\n",
              "      <th>...</th>\n",
              "      <th>pas</th>\n",
              "      <th>hitter</th>\n",
              "      <th>britney</th>\n",
              "      <th>fact</th>\n",
              "      <th>ldew</th>\n",
              "      <th>billy</th>\n",
              "      <th>th</th>\n",
              "      <th>owned</th>\n",
              "      <th>westshore</th>\n",
              "      <th>frwd</th>\n",
              "      <th>responsible</th>\n",
              "      <th>nonetheless</th>\n",
              "      <th>replacing</th>\n",
              "      <th>roommate</th>\n",
              "      <th>wiv</th>\n",
              "      <th>brighten</th>\n",
              "      <th>inpersonation</th>\n",
              "      <th>resizing</th>\n",
              "      <th>march</th>\n",
              "      <th>spiritual</th>\n",
              "      <th>remb</th>\n",
              "      <th>holiday</th>\n",
              "      <th>mushy</th>\n",
              "      <th>greatness</th>\n",
              "      <th>drove</th>\n",
              "      <th>whose</th>\n",
              "      <th>ppw</th>\n",
              "      <th>enjoy</th>\n",
              "      <th>offered</th>\n",
              "      <th>field</th>\n",
              "      <th>meow</th>\n",
              "      <th>cttargg</th>\n",
              "      <th>lovable</th>\n",
              "      <th>blogging</th>\n",
              "      <th>loverboy</th>\n",
              "      <th>huh</th>\n",
              "      <th>absolutly</th>\n",
              "      <th>river</th>\n",
              "      <th>notified</th>\n",
              "      <th>reasonable</th>\n",
              "    </tr>\n",
              "  </thead>\n",
              "  <tbody>\n",
              "    <tr>\n",
              "      <th>358</th>\n",
              "      <td>0.0</td>\n",
              "      <td>0.0</td>\n",
              "      <td>0.0</td>\n",
              "      <td>0.0</td>\n",
              "      <td>0.0</td>\n",
              "      <td>0.0</td>\n",
              "      <td>0.0</td>\n",
              "      <td>0.0</td>\n",
              "      <td>0.0</td>\n",
              "      <td>0.0</td>\n",
              "      <td>0.0</td>\n",
              "      <td>0.0</td>\n",
              "      <td>0.0</td>\n",
              "      <td>0.0</td>\n",
              "      <td>0.0</td>\n",
              "      <td>0.0</td>\n",
              "      <td>0.0</td>\n",
              "      <td>0.0</td>\n",
              "      <td>0.0</td>\n",
              "      <td>0.0</td>\n",
              "      <td>0.0</td>\n",
              "      <td>0.0</td>\n",
              "      <td>0.0</td>\n",
              "      <td>0.0</td>\n",
              "      <td>0.0</td>\n",
              "      <td>0.0</td>\n",
              "      <td>0.0</td>\n",
              "      <td>0.0</td>\n",
              "      <td>0.0</td>\n",
              "      <td>0.0</td>\n",
              "      <td>0.0</td>\n",
              "      <td>0.0</td>\n",
              "      <td>0.0</td>\n",
              "      <td>0.0</td>\n",
              "      <td>0.0</td>\n",
              "      <td>0.0</td>\n",
              "      <td>0.0</td>\n",
              "      <td>0.0</td>\n",
              "      <td>0.0</td>\n",
              "      <td>0.0</td>\n",
              "      <td>...</td>\n",
              "      <td>0.0</td>\n",
              "      <td>0.0</td>\n",
              "      <td>0.0</td>\n",
              "      <td>0.0</td>\n",
              "      <td>0.0</td>\n",
              "      <td>0.0</td>\n",
              "      <td>0.0</td>\n",
              "      <td>0.0</td>\n",
              "      <td>0.0</td>\n",
              "      <td>0.0</td>\n",
              "      <td>0.0</td>\n",
              "      <td>0.0</td>\n",
              "      <td>0.0</td>\n",
              "      <td>0.0</td>\n",
              "      <td>0.0</td>\n",
              "      <td>0.0</td>\n",
              "      <td>0.0</td>\n",
              "      <td>0.0</td>\n",
              "      <td>0.0</td>\n",
              "      <td>0.0</td>\n",
              "      <td>0.0</td>\n",
              "      <td>0.0</td>\n",
              "      <td>0.0</td>\n",
              "      <td>0.0</td>\n",
              "      <td>0.0</td>\n",
              "      <td>0.0</td>\n",
              "      <td>0.0</td>\n",
              "      <td>0.0</td>\n",
              "      <td>0.0</td>\n",
              "      <td>0.0</td>\n",
              "      <td>0.0</td>\n",
              "      <td>0.0</td>\n",
              "      <td>0.0</td>\n",
              "      <td>0.0</td>\n",
              "      <td>0.0</td>\n",
              "      <td>0.0</td>\n",
              "      <td>0.0</td>\n",
              "      <td>0.0</td>\n",
              "      <td>0.0</td>\n",
              "      <td>0.0</td>\n",
              "    </tr>\n",
              "    <tr>\n",
              "      <th>1692</th>\n",
              "      <td>0.0</td>\n",
              "      <td>0.0</td>\n",
              "      <td>0.0</td>\n",
              "      <td>0.0</td>\n",
              "      <td>0.0</td>\n",
              "      <td>0.0</td>\n",
              "      <td>0.0</td>\n",
              "      <td>0.0</td>\n",
              "      <td>0.0</td>\n",
              "      <td>0.0</td>\n",
              "      <td>0.0</td>\n",
              "      <td>0.0</td>\n",
              "      <td>0.0</td>\n",
              "      <td>0.0</td>\n",
              "      <td>0.0</td>\n",
              "      <td>0.0</td>\n",
              "      <td>0.0</td>\n",
              "      <td>0.0</td>\n",
              "      <td>0.0</td>\n",
              "      <td>0.0</td>\n",
              "      <td>0.0</td>\n",
              "      <td>0.0</td>\n",
              "      <td>0.0</td>\n",
              "      <td>0.0</td>\n",
              "      <td>0.0</td>\n",
              "      <td>0.0</td>\n",
              "      <td>0.0</td>\n",
              "      <td>0.0</td>\n",
              "      <td>0.0</td>\n",
              "      <td>0.0</td>\n",
              "      <td>0.0</td>\n",
              "      <td>0.0</td>\n",
              "      <td>0.0</td>\n",
              "      <td>0.0</td>\n",
              "      <td>0.0</td>\n",
              "      <td>0.0</td>\n",
              "      <td>0.0</td>\n",
              "      <td>0.0</td>\n",
              "      <td>0.0</td>\n",
              "      <td>0.0</td>\n",
              "      <td>...</td>\n",
              "      <td>0.0</td>\n",
              "      <td>0.0</td>\n",
              "      <td>0.0</td>\n",
              "      <td>0.0</td>\n",
              "      <td>0.0</td>\n",
              "      <td>0.0</td>\n",
              "      <td>0.0</td>\n",
              "      <td>0.0</td>\n",
              "      <td>0.0</td>\n",
              "      <td>0.0</td>\n",
              "      <td>0.0</td>\n",
              "      <td>0.0</td>\n",
              "      <td>0.0</td>\n",
              "      <td>0.0</td>\n",
              "      <td>0.0</td>\n",
              "      <td>0.0</td>\n",
              "      <td>0.0</td>\n",
              "      <td>0.0</td>\n",
              "      <td>0.0</td>\n",
              "      <td>0.0</td>\n",
              "      <td>0.0</td>\n",
              "      <td>0.0</td>\n",
              "      <td>0.0</td>\n",
              "      <td>0.0</td>\n",
              "      <td>0.0</td>\n",
              "      <td>0.0</td>\n",
              "      <td>0.0</td>\n",
              "      <td>0.0</td>\n",
              "      <td>0.0</td>\n",
              "      <td>0.0</td>\n",
              "      <td>0.0</td>\n",
              "      <td>0.0</td>\n",
              "      <td>0.0</td>\n",
              "      <td>0.0</td>\n",
              "      <td>0.0</td>\n",
              "      <td>0.0</td>\n",
              "      <td>0.0</td>\n",
              "      <td>0.0</td>\n",
              "      <td>0.0</td>\n",
              "      <td>0.0</td>\n",
              "    </tr>\n",
              "    <tr>\n",
              "      <th>1440</th>\n",
              "      <td>0.0</td>\n",
              "      <td>0.0</td>\n",
              "      <td>0.0</td>\n",
              "      <td>0.0</td>\n",
              "      <td>0.0</td>\n",
              "      <td>0.0</td>\n",
              "      <td>0.0</td>\n",
              "      <td>0.0</td>\n",
              "      <td>0.0</td>\n",
              "      <td>0.0</td>\n",
              "      <td>0.0</td>\n",
              "      <td>0.0</td>\n",
              "      <td>0.0</td>\n",
              "      <td>0.0</td>\n",
              "      <td>0.0</td>\n",
              "      <td>0.0</td>\n",
              "      <td>0.0</td>\n",
              "      <td>0.0</td>\n",
              "      <td>0.0</td>\n",
              "      <td>0.0</td>\n",
              "      <td>0.0</td>\n",
              "      <td>0.0</td>\n",
              "      <td>0.0</td>\n",
              "      <td>0.0</td>\n",
              "      <td>0.0</td>\n",
              "      <td>0.0</td>\n",
              "      <td>0.0</td>\n",
              "      <td>0.0</td>\n",
              "      <td>0.0</td>\n",
              "      <td>0.0</td>\n",
              "      <td>0.0</td>\n",
              "      <td>0.0</td>\n",
              "      <td>0.0</td>\n",
              "      <td>0.0</td>\n",
              "      <td>0.0</td>\n",
              "      <td>0.0</td>\n",
              "      <td>0.0</td>\n",
              "      <td>0.0</td>\n",
              "      <td>0.0</td>\n",
              "      <td>0.0</td>\n",
              "      <td>...</td>\n",
              "      <td>0.0</td>\n",
              "      <td>0.0</td>\n",
              "      <td>0.0</td>\n",
              "      <td>0.0</td>\n",
              "      <td>0.0</td>\n",
              "      <td>0.0</td>\n",
              "      <td>0.0</td>\n",
              "      <td>0.0</td>\n",
              "      <td>0.0</td>\n",
              "      <td>0.0</td>\n",
              "      <td>0.0</td>\n",
              "      <td>0.0</td>\n",
              "      <td>0.0</td>\n",
              "      <td>0.0</td>\n",
              "      <td>0.0</td>\n",
              "      <td>0.0</td>\n",
              "      <td>0.0</td>\n",
              "      <td>0.0</td>\n",
              "      <td>0.0</td>\n",
              "      <td>0.0</td>\n",
              "      <td>0.0</td>\n",
              "      <td>0.0</td>\n",
              "      <td>0.0</td>\n",
              "      <td>0.0</td>\n",
              "      <td>0.0</td>\n",
              "      <td>0.0</td>\n",
              "      <td>0.0</td>\n",
              "      <td>0.0</td>\n",
              "      <td>0.0</td>\n",
              "      <td>0.0</td>\n",
              "      <td>0.0</td>\n",
              "      <td>0.0</td>\n",
              "      <td>0.0</td>\n",
              "      <td>0.0</td>\n",
              "      <td>0.0</td>\n",
              "      <td>0.0</td>\n",
              "      <td>0.0</td>\n",
              "      <td>0.0</td>\n",
              "      <td>0.0</td>\n",
              "      <td>0.0</td>\n",
              "    </tr>\n",
              "    <tr>\n",
              "      <th>3443</th>\n",
              "      <td>0.0</td>\n",
              "      <td>0.0</td>\n",
              "      <td>0.0</td>\n",
              "      <td>0.0</td>\n",
              "      <td>0.0</td>\n",
              "      <td>0.0</td>\n",
              "      <td>0.0</td>\n",
              "      <td>0.0</td>\n",
              "      <td>0.0</td>\n",
              "      <td>0.0</td>\n",
              "      <td>0.0</td>\n",
              "      <td>0.0</td>\n",
              "      <td>0.0</td>\n",
              "      <td>0.0</td>\n",
              "      <td>0.0</td>\n",
              "      <td>0.0</td>\n",
              "      <td>0.0</td>\n",
              "      <td>0.0</td>\n",
              "      <td>0.0</td>\n",
              "      <td>0.0</td>\n",
              "      <td>0.0</td>\n",
              "      <td>0.0</td>\n",
              "      <td>0.0</td>\n",
              "      <td>0.0</td>\n",
              "      <td>0.0</td>\n",
              "      <td>0.0</td>\n",
              "      <td>0.0</td>\n",
              "      <td>0.0</td>\n",
              "      <td>0.0</td>\n",
              "      <td>0.0</td>\n",
              "      <td>0.0</td>\n",
              "      <td>0.0</td>\n",
              "      <td>0.0</td>\n",
              "      <td>0.0</td>\n",
              "      <td>0.0</td>\n",
              "      <td>0.0</td>\n",
              "      <td>0.0</td>\n",
              "      <td>0.0</td>\n",
              "      <td>0.0</td>\n",
              "      <td>0.0</td>\n",
              "      <td>...</td>\n",
              "      <td>0.0</td>\n",
              "      <td>0.0</td>\n",
              "      <td>0.0</td>\n",
              "      <td>0.0</td>\n",
              "      <td>0.0</td>\n",
              "      <td>0.0</td>\n",
              "      <td>0.0</td>\n",
              "      <td>0.0</td>\n",
              "      <td>0.0</td>\n",
              "      <td>0.0</td>\n",
              "      <td>0.0</td>\n",
              "      <td>0.0</td>\n",
              "      <td>0.0</td>\n",
              "      <td>0.0</td>\n",
              "      <td>0.0</td>\n",
              "      <td>0.0</td>\n",
              "      <td>0.0</td>\n",
              "      <td>0.0</td>\n",
              "      <td>0.0</td>\n",
              "      <td>0.0</td>\n",
              "      <td>0.0</td>\n",
              "      <td>0.0</td>\n",
              "      <td>0.0</td>\n",
              "      <td>0.0</td>\n",
              "      <td>0.0</td>\n",
              "      <td>0.0</td>\n",
              "      <td>0.0</td>\n",
              "      <td>0.0</td>\n",
              "      <td>0.0</td>\n",
              "      <td>0.0</td>\n",
              "      <td>0.0</td>\n",
              "      <td>0.0</td>\n",
              "      <td>0.0</td>\n",
              "      <td>0.0</td>\n",
              "      <td>0.0</td>\n",
              "      <td>0.0</td>\n",
              "      <td>0.0</td>\n",
              "      <td>0.0</td>\n",
              "      <td>0.0</td>\n",
              "      <td>0.0</td>\n",
              "    </tr>\n",
              "    <tr>\n",
              "      <th>3341</th>\n",
              "      <td>0.0</td>\n",
              "      <td>0.0</td>\n",
              "      <td>0.0</td>\n",
              "      <td>0.0</td>\n",
              "      <td>0.0</td>\n",
              "      <td>0.0</td>\n",
              "      <td>0.0</td>\n",
              "      <td>0.0</td>\n",
              "      <td>0.0</td>\n",
              "      <td>0.0</td>\n",
              "      <td>0.0</td>\n",
              "      <td>0.0</td>\n",
              "      <td>0.0</td>\n",
              "      <td>0.0</td>\n",
              "      <td>0.0</td>\n",
              "      <td>0.0</td>\n",
              "      <td>0.0</td>\n",
              "      <td>0.0</td>\n",
              "      <td>0.0</td>\n",
              "      <td>0.0</td>\n",
              "      <td>0.0</td>\n",
              "      <td>0.0</td>\n",
              "      <td>0.0</td>\n",
              "      <td>0.0</td>\n",
              "      <td>0.0</td>\n",
              "      <td>0.0</td>\n",
              "      <td>0.0</td>\n",
              "      <td>0.0</td>\n",
              "      <td>0.0</td>\n",
              "      <td>0.0</td>\n",
              "      <td>0.0</td>\n",
              "      <td>0.0</td>\n",
              "      <td>0.0</td>\n",
              "      <td>0.0</td>\n",
              "      <td>0.0</td>\n",
              "      <td>0.0</td>\n",
              "      <td>0.0</td>\n",
              "      <td>0.0</td>\n",
              "      <td>0.0</td>\n",
              "      <td>0.0</td>\n",
              "      <td>...</td>\n",
              "      <td>0.0</td>\n",
              "      <td>0.0</td>\n",
              "      <td>0.0</td>\n",
              "      <td>0.0</td>\n",
              "      <td>0.0</td>\n",
              "      <td>0.0</td>\n",
              "      <td>0.0</td>\n",
              "      <td>0.0</td>\n",
              "      <td>0.0</td>\n",
              "      <td>0.0</td>\n",
              "      <td>0.0</td>\n",
              "      <td>0.0</td>\n",
              "      <td>0.0</td>\n",
              "      <td>0.0</td>\n",
              "      <td>0.0</td>\n",
              "      <td>0.0</td>\n",
              "      <td>0.0</td>\n",
              "      <td>0.0</td>\n",
              "      <td>0.0</td>\n",
              "      <td>0.0</td>\n",
              "      <td>0.0</td>\n",
              "      <td>0.0</td>\n",
              "      <td>0.0</td>\n",
              "      <td>0.0</td>\n",
              "      <td>0.0</td>\n",
              "      <td>0.0</td>\n",
              "      <td>0.0</td>\n",
              "      <td>0.0</td>\n",
              "      <td>0.0</td>\n",
              "      <td>0.0</td>\n",
              "      <td>0.0</td>\n",
              "      <td>0.0</td>\n",
              "      <td>0.0</td>\n",
              "      <td>0.0</td>\n",
              "      <td>0.0</td>\n",
              "      <td>0.0</td>\n",
              "      <td>0.0</td>\n",
              "      <td>0.0</td>\n",
              "      <td>0.0</td>\n",
              "      <td>0.0</td>\n",
              "    </tr>\n",
              "  </tbody>\n",
              "</table>\n",
              "<p>5 rows × 7107 columns</p>\n",
              "</div>\n",
              "      <button class=\"colab-df-convert\" onclick=\"convertToInteractive('df-e1314a9a-fe48-4e04-86f7-04b4d6d6584d')\"\n",
              "              title=\"Convert this dataframe to an interactive table.\"\n",
              "              style=\"display:none;\">\n",
              "        \n",
              "  <svg xmlns=\"http://www.w3.org/2000/svg\" height=\"24px\"viewBox=\"0 0 24 24\"\n",
              "       width=\"24px\">\n",
              "    <path d=\"M0 0h24v24H0V0z\" fill=\"none\"/>\n",
              "    <path d=\"M18.56 5.44l.94 2.06.94-2.06 2.06-.94-2.06-.94-.94-2.06-.94 2.06-2.06.94zm-11 1L8.5 8.5l.94-2.06 2.06-.94-2.06-.94L8.5 2.5l-.94 2.06-2.06.94zm10 10l.94 2.06.94-2.06 2.06-.94-2.06-.94-.94-2.06-.94 2.06-2.06.94z\"/><path d=\"M17.41 7.96l-1.37-1.37c-.4-.4-.92-.59-1.43-.59-.52 0-1.04.2-1.43.59L10.3 9.45l-7.72 7.72c-.78.78-.78 2.05 0 2.83L4 21.41c.39.39.9.59 1.41.59.51 0 1.02-.2 1.41-.59l7.78-7.78 2.81-2.81c.8-.78.8-2.07 0-2.86zM5.41 20L4 18.59l7.72-7.72 1.47 1.35L5.41 20z\"/>\n",
              "  </svg>\n",
              "      </button>\n",
              "      \n",
              "  <style>\n",
              "    .colab-df-container {\n",
              "      display:flex;\n",
              "      flex-wrap:wrap;\n",
              "      gap: 12px;\n",
              "    }\n",
              "\n",
              "    .colab-df-convert {\n",
              "      background-color: #E8F0FE;\n",
              "      border: none;\n",
              "      border-radius: 50%;\n",
              "      cursor: pointer;\n",
              "      display: none;\n",
              "      fill: #1967D2;\n",
              "      height: 32px;\n",
              "      padding: 0 0 0 0;\n",
              "      width: 32px;\n",
              "    }\n",
              "\n",
              "    .colab-df-convert:hover {\n",
              "      background-color: #E2EBFA;\n",
              "      box-shadow: 0px 1px 2px rgba(60, 64, 67, 0.3), 0px 1px 3px 1px rgba(60, 64, 67, 0.15);\n",
              "      fill: #174EA6;\n",
              "    }\n",
              "\n",
              "    [theme=dark] .colab-df-convert {\n",
              "      background-color: #3B4455;\n",
              "      fill: #D2E3FC;\n",
              "    }\n",
              "\n",
              "    [theme=dark] .colab-df-convert:hover {\n",
              "      background-color: #434B5C;\n",
              "      box-shadow: 0px 1px 3px 1px rgba(0, 0, 0, 0.15);\n",
              "      filter: drop-shadow(0px 1px 2px rgba(0, 0, 0, 0.3));\n",
              "      fill: #FFFFFF;\n",
              "    }\n",
              "  </style>\n",
              "\n",
              "      <script>\n",
              "        const buttonEl =\n",
              "          document.querySelector('#df-e1314a9a-fe48-4e04-86f7-04b4d6d6584d button.colab-df-convert');\n",
              "        buttonEl.style.display =\n",
              "          google.colab.kernel.accessAllowed ? 'block' : 'none';\n",
              "\n",
              "        async function convertToInteractive(key) {\n",
              "          const element = document.querySelector('#df-e1314a9a-fe48-4e04-86f7-04b4d6d6584d');\n",
              "          const dataTable =\n",
              "            await google.colab.kernel.invokeFunction('convertToInteractive',\n",
              "                                                     [key], {});\n",
              "          if (!dataTable) return;\n",
              "\n",
              "          const docLinkHtml = 'Like what you see? Visit the ' +\n",
              "            '<a target=\"_blank\" href=https://colab.research.google.com/notebooks/data_table.ipynb>data table notebook</a>'\n",
              "            + ' to learn more about interactive tables.';\n",
              "          element.innerHTML = '';\n",
              "          dataTable['output_type'] = 'display_data';\n",
              "          await google.colab.output.renderOutput(dataTable, element);\n",
              "          const docLink = document.createElement('div');\n",
              "          docLink.innerHTML = docLinkHtml;\n",
              "          element.appendChild(docLink);\n",
              "        }\n",
              "      </script>\n",
              "    </div>\n",
              "  </div>\n",
              "  "
            ],
            "text/plain": [
              "      order  sol  euro  phony  ...  absolutly  river  notified  reasonable\n",
              "358     0.0  0.0   0.0    0.0  ...        0.0    0.0       0.0         0.0\n",
              "1692    0.0  0.0   0.0    0.0  ...        0.0    0.0       0.0         0.0\n",
              "1440    0.0  0.0   0.0    0.0  ...        0.0    0.0       0.0         0.0\n",
              "3443    0.0  0.0   0.0    0.0  ...        0.0    0.0       0.0         0.0\n",
              "3341    0.0  0.0   0.0    0.0  ...        0.0    0.0       0.0         0.0\n",
              "\n",
              "[5 rows x 7107 columns]"
            ]
          },
          "metadata": {},
          "execution_count": 39
        }
      ]
    },
    {
      "cell_type": "code",
      "source": [
        "X_train_list=[]\n",
        "\n",
        "X_valid_list=[]\n",
        "\n",
        "for i in range(X_train.shape[0]):\n",
        "  X_train_list.append(X_train.iloc[i].to_numpy())\n",
        "\n",
        "for i in range(X_valid.shape[0]):\n",
        "  X_valid_list.append(X_valid.iloc[i].to_numpy())\n",
        "\n"
      ],
      "metadata": {
        "id": "WQJNV6rzl2cO"
      },
      "id": "WQJNV6rzl2cO",
      "execution_count": null,
      "outputs": []
    },
    {
      "cell_type": "code",
      "source": [
        "Y_valid_array=Y_valid.to_numpy()"
      ],
      "metadata": {
        "id": "mGTJbG9Btl__"
      },
      "id": "mGTJbG9Btl__",
      "execution_count": null,
      "outputs": []
    },
    {
      "cell_type": "code",
      "source": [
        "Y_test_array=Y_test.to_numpy()"
      ],
      "metadata": {
        "id": "slqXCen6D1AD"
      },
      "id": "slqXCen6D1AD",
      "execution_count": null,
      "outputs": []
    },
    {
      "cell_type": "code",
      "source": [
        "X_test_list=[]\n",
        "\n",
        "for i in range(X_test.shape[0]):\n",
        "  X_test_list.append(X_test.iloc[i].to_numpy())\n"
      ],
      "metadata": {
        "id": "daOpMGZXDWWo"
      },
      "id": "daOpMGZXDWWo",
      "execution_count": null,
      "outputs": []
    },
    {
      "cell_type": "code",
      "source": [
        "X_train[0]"
      ],
      "metadata": {
        "colab": {
          "base_uri": "https://localhost:8080/"
        },
        "id": "ibxvRygnlNNg",
        "outputId": "f0f95e3e-7b90-4fe8-def7-6d95fa7304e7"
      },
      "id": "ibxvRygnlNNg",
      "execution_count": null,
      "outputs": [
        {
          "output_type": "execute_result",
          "data": {
            "text/plain": [
              "array([0., 0., 0., ..., 0., 0., 0.])"
            ]
          },
          "metadata": {},
          "execution_count": 71
        }
      ]
    },
    {
      "cell_type": "code",
      "source": [
        "X_test.shape[0]"
      ],
      "metadata": {
        "colab": {
          "base_uri": "https://localhost:8080/"
        },
        "id": "Q90RO6wP7zsA",
        "outputId": "0934eda3-39b0-408a-8b58-5f1946cef4be"
      },
      "id": "Q90RO6wP7zsA",
      "execution_count": null,
      "outputs": [
        {
          "output_type": "execute_result",
          "data": {
            "text/plain": [
              "506"
            ]
          },
          "metadata": {},
          "execution_count": 90
        }
      ]
    },
    {
      "cell_type": "markdown",
      "id": "ee6eb76b",
      "metadata": {
        "id": "ee6eb76b"
      },
      "source": [
        "### Train your KNN model (reuse previously iplemented model built from scratch) and test on your data"
      ]
    },
    {
      "cell_type": "markdown",
      "id": "22baf6b2",
      "metadata": {
        "id": "22baf6b2"
      },
      "source": [
        "***1. Experiment with different distance measures [Euclidean distance, Manhattan distance, Hamming Distance] and compare with the Cosine Similarity distance results.***"
      ]
    },
    {
      "cell_type": "code",
      "execution_count": null,
      "id": "68f1bb23",
      "metadata": {
        "id": "68f1bb23"
      },
      "outputs": [],
      "source": [
        "def Euclidean_distance(a,b):\n",
        "  return np.linalg.norm(a-b)"
      ]
    },
    {
      "cell_type": "code",
      "source": [
        "def Cosine_similarity(a,b):\n",
        "  return dot(a,b)/(norm(a)*norm(b))"
      ],
      "metadata": {
        "id": "upctb82z8Ih1"
      },
      "id": "upctb82z8Ih1",
      "execution_count": null,
      "outputs": []
    },
    {
      "cell_type": "code",
      "source": [
        "def Cosine_distance(a,b):\n",
        "  return 1-Cosine_similarity(a,b)"
      ],
      "metadata": {
        "id": "_4f2uSNQ87SW"
      },
      "id": "_4f2uSNQ87SW",
      "execution_count": null,
      "outputs": []
    },
    {
      "cell_type": "code",
      "source": [
        "def Manhattan_distance(a,b):\n",
        "  return np.abs(a-b).sum()"
      ],
      "metadata": {
        "id": "FF5H8gJn_BiO"
      },
      "id": "FF5H8gJn_BiO",
      "execution_count": null,
      "outputs": []
    },
    {
      "cell_type": "code",
      "source": [
        "\n",
        "def find_neighbours(test,metric=Euclidean_distance):\n",
        "  X_train_length=len(X_train_list)\n",
        "  neighbours=np.zeros((X_train_length))\n",
        "  for i in range(X_train_length):\n",
        "    # print(Euclidean_distance(X_train[i],test))\n",
        "    neighbours[i]= metric(X_train_list[i],test)\n",
        "    # print(i)\n",
        "  return neighbours\n",
        "  \n",
        "  "
      ],
      "metadata": {
        "id": "029Txx5vPPbl"
      },
      "id": "029Txx5vPPbl",
      "execution_count": null,
      "outputs": []
    },
    {
      "cell_type": "code",
      "source": [
        "def majority(neighbours,k=5):\n",
        "  idx=np.argpartition(neighbours,k)\n",
        "  # print(neighbours[idx[:k]])\n",
        "  return Y_train.iloc[idx[:k]].mode()[0]"
      ],
      "metadata": {
        "id": "yT5xR7J3pTfp"
      },
      "id": "yT5xR7J3pTfp",
      "execution_count": null,
      "outputs": []
    },
    {
      "cell_type": "code",
      "source": [
        "neighbours=[]\n",
        "def predict(x_test,k_v=5,metric=Euclidean_distance):\n",
        "  X_test_length=len(x_test)\n",
        "  y_pred=np.zeros((X_test_length),dtype=int)\n",
        "  if len(neighbours)==0:\n",
        "    for i in range(X_test_length):\n",
        "      neighbours.append(find_neighbours(x_test[i],metric=metric))\n",
        "  for i in range(X_test_length):\n",
        "    y_pred[i] = majority(neighbours[i],k=k_v)\n",
        "  return y_pred\n"
      ],
      "metadata": {
        "id": "iqytAaPHl1LD"
      },
      "id": "iqytAaPHl1LD",
      "execution_count": null,
      "outputs": []
    },
    {
      "cell_type": "code",
      "source": [
        ""
      ],
      "metadata": {
        "id": "l52BmuqlnlmW",
        "colab": {
          "base_uri": "https://localhost:8080/"
        },
        "outputId": "93c72f35-ee66-4612-9e0b-bcf28b930d94"
      },
      "id": "l52BmuqlnlmW",
      "execution_count": null,
      "outputs": [
        {
          "output_type": "execute_result",
          "data": {
            "text/plain": [
              "506"
            ]
          },
          "metadata": {},
          "execution_count": 50
        }
      ]
    },
    {
      "cell_type": "code",
      "source": [
        "## KNN using Euclidean distance for k=1,3,5,7,11,17,23,28\n",
        "Accuracy_score_euclidean={}\n",
        "Y_pred_Euclidean={}\n",
        "for k_value in [1,3,5,7,11,17,23,28]:\n",
        "  Y_pred_Euclidean[k_value]=predict(X_valid_list,k_v=k_value,metric=Euclidean_distance)\n",
        "  Accuracy_score_euclidean[k_value]=accuracy_score(Y_valid_array,Y_pred_Euclidean[k_value])\n",
        "  print(k_value,\"=>\",Accuracy_score_euclidean[k_value])"
      ],
      "metadata": {
        "colab": {
          "base_uri": "https://localhost:8080/"
        },
        "id": "Pcm8CcW8HhB4",
        "outputId": "1f7eff15-06c1-4b58-fa03-221362587d09"
      },
      "id": "Pcm8CcW8HhB4",
      "execution_count": null,
      "outputs": [
        {
          "output_type": "stream",
          "name": "stdout",
          "text": [
            "1 => 0.9387351778656127\n",
            "3 => 0.9209486166007905\n",
            "5 => 0.9090909090909091\n",
            "7 => 0.9011857707509882\n",
            "11 => 0.8913043478260869\n",
            "17 => 0.8873517786561265\n",
            "23 => 0.8853754940711462\n",
            "28 => 0.8853754940711462\n"
          ]
        }
      ]
    },
    {
      "cell_type": "code",
      "source": [
        "F1_score_euclidean={}\n",
        "for k in Y_pred_Euclidean.keys():\n",
        "  F1_score_euclidean[k]=f1_score(Y_valid_array,Y_pred_Euclidean[k])\n",
        "  print(k,\"=>\",F1_score_euclidean[k])"
      ],
      "metadata": {
        "colab": {
          "base_uri": "https://localhost:8080/"
        },
        "id": "IweGZPEnraNH",
        "outputId": "906615a6-212b-4399-b600-4df8f8899c34"
      },
      "id": "IweGZPEnraNH",
      "execution_count": null,
      "outputs": [
        {
          "output_type": "stream",
          "name": "stdout",
          "text": [
            "1 => 0.6352941176470588\n",
            "3 => 0.4736842105263158\n",
            "5 => 0.34285714285714286\n",
            "7 => 0.2424242424242424\n",
            "11 => 0.09836065573770492\n",
            "17 => 0.03389830508474576\n",
            "23 => 0.0\n",
            "28 => 0.0\n"
          ]
        }
      ]
    },
    {
      "cell_type": "code",
      "source": [
        "## KNN using Cosine similarity for k=1,3,5,7,11,17,23,28\n",
        "Accuracy_score_cosine={}\n",
        "Y_pred_Cosine={}\n",
        "for k_value in [1,3,5,7,11,17,23,28]:\n",
        "  Y_pred_Cosine[k_value]=predict(X_valid_list,k_v=k_value,metric=Cosine_distance)\n",
        "  Accuracy_score_cosine[k_value]=accuracy_score(Y_valid_array,Y_pred_Cosine[k_value])\n",
        "  print(k_value,\"=>\",Accuracy_score_cosine[k_value])"
      ],
      "metadata": {
        "id": "cv92YgJPLK2m",
        "colab": {
          "base_uri": "https://localhost:8080/"
        },
        "outputId": "903ab10d-7d73-42c1-ed31-97ce7bf83ae9"
      },
      "id": "cv92YgJPLK2m",
      "execution_count": null,
      "outputs": [
        {
          "output_type": "stream",
          "name": "stderr",
          "text": [
            "/usr/local/lib/python3.7/dist-packages/ipykernel_launcher.py:2: RuntimeWarning: invalid value encountered in double_scalars\n",
            "  \n"
          ]
        },
        {
          "output_type": "stream",
          "name": "stdout",
          "text": [
            "1 => 0.9565217391304348\n",
            "3 => 0.9525691699604744\n",
            "5 => 0.9525691699604744\n",
            "7 => 0.9525691699604744\n",
            "11 => 0.9565217391304348\n",
            "17 => 0.9565217391304348\n",
            "23 => 0.958498023715415\n",
            "28 => 0.958498023715415\n"
          ]
        }
      ]
    },
    {
      "cell_type": "code",
      "source": [
        "F1_score_cosine={}\n",
        "for k in Y_pred_Cosine.keys():\n",
        "  F1_score_cosine[k]=f1_score(Y_valid_array,Y_pred_Cosine[k])\n",
        "  print(k,\"=>\",F1_score_cosine[k])"
      ],
      "metadata": {
        "colab": {
          "base_uri": "https://localhost:8080/"
        },
        "id": "gcbLZSSBPBA0",
        "outputId": "3edf2d6b-c1a0-4c1a-e373-de04ff9b7345"
      },
      "id": "gcbLZSSBPBA0",
      "execution_count": null,
      "outputs": [
        {
          "output_type": "stream",
          "name": "stdout",
          "text": [
            "1 => 0.78\n",
            "3 => 0.7446808510638298\n",
            "5 => 0.7446808510638298\n",
            "7 => 0.7446808510638298\n",
            "11 => 0.7708333333333335\n",
            "17 => 0.7708333333333335\n",
            "23 => 0.7835051546391754\n",
            "28 => 0.7789473684210527\n"
          ]
        }
      ]
    },
    {
      "cell_type": "code",
      "source": [
        "## KNN using Manhattan distance for k=1,3,5,7,11,17,23,28\n",
        "Accuracy_score_manhattan={}\n",
        "Y_pred_Manhattan={}\n",
        "for k_value in [1,3,5,7,11,17,23,28]:\n",
        "  Y_pred_Manhattan[k_value]=predict(X_valid_list,k_v=k_value,metric=Manhattan_distance)\n",
        "  Accuracy_score_manhattan[k_value]=accuracy_score(Y_valid_array,Y_pred_Manhattan[k_value])\n",
        "  print(k_value,\"=>\",Accuracy_score_manhattan[k_value])"
      ],
      "metadata": {
        "id": "um2FvVcsLUL9",
        "colab": {
          "base_uri": "https://localhost:8080/"
        },
        "outputId": "d201cb55-1cf2-40f0-e0c3-d75c8bca815d"
      },
      "id": "um2FvVcsLUL9",
      "execution_count": null,
      "outputs": [
        {
          "output_type": "stream",
          "name": "stdout",
          "text": [
            "1 => 0.9347826086956522\n",
            "3 => 0.9189723320158103\n",
            "5 => 0.9110671936758893\n",
            "7 => 0.9011857707509882\n",
            "11 => 0.8932806324110671\n",
            "17 => 0.8932806324110671\n",
            "23 => 0.8853754940711462\n",
            "28 => 0.8853754940711462\n"
          ]
        }
      ]
    },
    {
      "cell_type": "code",
      "source": [
        "F1_score_manhattan={}\n",
        "for k in Y_pred_Cosine.keys():\n",
        "  F1_score_manhattan[k]=f1_score(Y_valid_array,Y_pred_Manhattan[k])\n",
        "  print(k,\"=>\",F1_score_manhattan[k])"
      ],
      "metadata": {
        "colab": {
          "base_uri": "https://localhost:8080/"
        },
        "id": "70FRyFZXPs3q",
        "outputId": "58207ffb-82ba-4dd4-80c0-40880b12d2fa"
      },
      "id": "70FRyFZXPs3q",
      "execution_count": null,
      "outputs": [
        {
          "output_type": "stream",
          "name": "stdout",
          "text": [
            "1 => 0.6024096385542169\n",
            "3 => 0.4533333333333333\n",
            "5 => 0.36619718309859156\n",
            "7 => 0.2424242424242424\n",
            "11 => 0.12903225806451613\n",
            "17 => 0.12903225806451613\n",
            "23 => 0.0\n",
            "28 => 0.0\n"
          ]
        }
      ]
    },
    {
      "cell_type": "code",
      "source": [
        "print(\"K\",\"Euclidean_Accuracy\",\"Manhattan_Accuracy\",\"Cosine_Accuracy\",sep=\"\\t\")\n",
        "for k in [1,3,5,7,11,17,23,28]:\n",
        "  print(k,Accuracy_score_euclidean[k],Accuracy_score_manhattan[k],Accuracy_score_cosine[k],sep=\"\\t\")"
      ],
      "metadata": {
        "colab": {
          "base_uri": "https://localhost:8080/"
        },
        "id": "3BLziI0BZ08R",
        "outputId": "02ac1980-ea34-4548-8f33-dd6aeb6671af"
      },
      "id": "3BLziI0BZ08R",
      "execution_count": null,
      "outputs": [
        {
          "output_type": "stream",
          "name": "stdout",
          "text": [
            "K\tEuclidean_Accuracy\tManhattan_Accuracy\tCosine_Accuracy\n",
            "1\t0.9387351778656127\t0.9347826086956522\t0.9565217391304348\n",
            "3\t0.9209486166007905\t0.9189723320158103\t0.9525691699604744\n",
            "5\t0.9090909090909091\t0.9110671936758893\t0.9525691699604744\n",
            "7\t0.9011857707509882\t0.9011857707509882\t0.9525691699604744\n",
            "11\t0.8913043478260869\t0.8932806324110671\t0.9565217391304348\n",
            "17\t0.8873517786561265\t0.8932806324110671\t0.9565217391304348\n",
            "23\t0.8853754940711462\t0.8853754940711462\t0.958498023715415\n",
            "28\t0.8853754940711462\t0.8853754940711462\t0.958498023715415\n"
          ]
        }
      ]
    },
    {
      "cell_type": "code",
      "source": [
        "print(\"K\",\"Euclidean_F1score\",\"Manhattan_F1score\",\"Cosine_F1score\",sep=\"\\t\")\n",
        "for k in [1,3,5,7,11,17,23,28]:\n",
        "  print(k,F1_score_euclidean[k],F1_score_manhattan[k],F1_score_cosine[k],sep=\"\\t\")"
      ],
      "metadata": {
        "colab": {
          "base_uri": "https://localhost:8080/"
        },
        "id": "w9M3tNJocF8M",
        "outputId": "0fb9ecaf-bbe2-45ef-8a89-0e6549115470"
      },
      "id": "w9M3tNJocF8M",
      "execution_count": null,
      "outputs": [
        {
          "output_type": "stream",
          "name": "stdout",
          "text": [
            "K\tEuclidean_F1score\tManhattan_F1score\tCosine_F1score\n",
            "1\t0.6352941176470588\t0.6024096385542169\t0.78\n",
            "3\t0.4736842105263158\t0.4533333333333333\t0.7446808510638298\n",
            "5\t0.34285714285714286\t0.36619718309859156\t0.7446808510638298\n",
            "7\t0.2424242424242424\t0.2424242424242424\t0.7446808510638298\n",
            "11\t0.09836065573770492\t0.12903225806451613\t0.7708333333333335\n",
            "17\t0.03389830508474576\t0.12903225806451613\t0.7708333333333335\n",
            "23\t0.0\t0.0\t0.7835051546391754\n",
            "28\t0.0\t0.0\t0.7789473684210527\n"
          ]
        }
      ]
    },
    {
      "cell_type": "code",
      "source": [
        "#Euclidean Cross verify using SKLearn library\n",
        "print(\"K\",\"Accuracy\",\"F1 score\",sep=\"\\t\")\n",
        "for k in [1,3,5,7,11,17,23,28]:\n",
        "  knn = KNeighborsClassifier(n_neighbors=k,p=2)\n",
        "  knn.fit(X_train, Y_train)\n",
        "  y_pred = knn.predict(X_valid)\n",
        "  print(k,accuracy_score(Y_valid,y_pred),f1_score(Y_valid,y_pred),sep=\"\\t\")\n"
      ],
      "metadata": {
        "colab": {
          "base_uri": "https://localhost:8080/"
        },
        "id": "hacphHdifslO",
        "outputId": "ccae1564-82dc-42d2-9466-37bf221a93dc"
      },
      "id": "hacphHdifslO",
      "execution_count": null,
      "outputs": [
        {
          "output_type": "stream",
          "name": "stdout",
          "text": [
            "K\tAccuracy\tF1 score\n",
            "1\t0.9387351778656127\t0.6352941176470588\n",
            "3\t0.9209486166007905\t0.4736842105263158\n",
            "5\t0.9090909090909091\t0.34285714285714286\n",
            "7\t0.9011857707509882\t0.2424242424242424\n",
            "11\t0.8913043478260869\t0.09836065573770492\n",
            "17\t0.8873517786561265\t0.03389830508474576\n",
            "23\t0.8853754940711462\t0.0\n",
            "28\t0.8853754940711462\t0.0\n"
          ]
        }
      ]
    },
    {
      "cell_type": "code",
      "source": [
        "#Manhattan Cross verify using SKLearn library\n",
        "print(\"K\",\"Accuracy\",\"F1 score\",sep=\"\\t\")\n",
        "for k in [1,3,5,7,11,17,23,28]:\n",
        "  knn = KNeighborsClassifier(n_neighbors=k,p=1)\n",
        "  knn.fit(X_train, Y_train)\n",
        "  y_pred = knn.predict(X_valid)\n",
        "  print(k,accuracy_score(Y_valid,y_pred),f1_score(Y_valid,y_pred),sep=\"\\t\")\n"
      ],
      "metadata": {
        "colab": {
          "base_uri": "https://localhost:8080/"
        },
        "id": "Hq_DQMAdhrrm",
        "outputId": "ab07799c-2d44-4a08-ec64-a744ca8feb3f"
      },
      "id": "Hq_DQMAdhrrm",
      "execution_count": null,
      "outputs": [
        {
          "output_type": "stream",
          "name": "stdout",
          "text": [
            "K\tAccuracy\tF1 score\n",
            "1\t0.9347826086956522\t0.6024096385542169\n",
            "3\t0.9189723320158103\t0.4533333333333333\n",
            "5\t0.9110671936758893\t0.36619718309859156\n",
            "7\t0.9011857707509882\t0.2424242424242424\n",
            "11\t0.8932806324110671\t0.12903225806451613\n",
            "17\t0.8932806324110671\t0.12903225806451613\n",
            "23\t0.8853754940711462\t0.0\n",
            "28\t0.8853754940711462\t0.0\n"
          ]
        }
      ]
    },
    {
      "cell_type": "code",
      "source": [
        "#Cosine Cross verify using SKLearn library\n",
        "print(\"K\",\"Accuracy\",\"F1 score\",sep=\"\\t\")\n",
        "for k in [1,3,5,7,11,17,23,28]:\n",
        "  knn = KNeighborsClassifier(n_neighbors=k,metric=\"cosine\")\n",
        "  knn.fit(X_train, Y_train)\n",
        "  y_pred = knn.predict(X_valid)\n",
        "  print(k,accuracy_score(Y_valid,y_pred),f1_score(Y_valid,y_pred),sep=\"\\t\")\n"
      ],
      "metadata": {
        "colab": {
          "base_uri": "https://localhost:8080/"
        },
        "id": "X32RVJe5ixbD",
        "outputId": "d58ecc77-9c2b-4e27-a21b-b90dd7ebf484"
      },
      "id": "X32RVJe5ixbD",
      "execution_count": null,
      "outputs": [
        {
          "output_type": "stream",
          "name": "stdout",
          "text": [
            "K\tAccuracy\tF1 score\n",
            "1\t0.9565217391304348\t0.78\n",
            "3\t0.9525691699604744\t0.7446808510638298\n",
            "5\t0.9525691699604744\t0.7446808510638298\n",
            "7\t0.9525691699604744\t0.7446808510638298\n",
            "11\t0.9565217391304348\t0.7708333333333335\n",
            "17\t0.9565217391304348\t0.7708333333333335\n",
            "23\t0.958498023715415\t0.7835051546391754\n",
            "28\t0.958498023715415\t0.7789473684210527\n"
          ]
        }
      ]
    },
    {
      "cell_type": "markdown",
      "id": "bcf6f3b1",
      "metadata": {
        "id": "bcf6f3b1"
      },
      "source": [
        "***2. Explain which distance measure works best and why? Explore the distance measures and weigh their pro and cons in different application settings.***"
      ]
    },
    {
      "cell_type": "markdown",
      "id": "bae57a01",
      "metadata": {
        "id": "bae57a01"
      },
      "source": [
        "**Best Measure**\n",
        "\n",
        "Cosine similarity gives better results as the data is of higher dimension. Also the emails(documents) have uneven lengths, Cosine similarity does not consider the magnitude of data\n",
        "\n",
        "\n",
        "\n",
        "\n",
        "**Euclidean Distance**\n",
        "\n",
        "It calculates the L2 norm between two data points.\n",
        "\n",
        "**Pros**\n",
        "- Works when you have Low dimensional data.\n",
        "- Simple to implement and shows great results in KNN\n",
        "\n",
        "**Cons**\n",
        "- One needs to normalise before using this distance measure.\n",
        "- As the dimensionality increases, the less useful Euclidean measure becomes.\n",
        "\n",
        "**Cosine Distance**\n",
        "\n",
        "It is counteract with Euclidean distance measure. It is the cosine of the angle between two vectors.\n",
        " \n",
        " **Pros**\n",
        " - Does not consider magnitude of the vectors.\n",
        " - Works good with high dimensional data.\n",
        "\n",
        "\n",
        " **Cons**\n",
        "\n",
        "- Documents may have uneven lengths. Cosine measure is not efficient in text analysis where there exists more words in one document.\n",
        "\n",
        "**Manhattan Distance**\n",
        "\n",
        " It calculates the L1 norm between two data points.\n",
        "\n",
        " **Pros**\n",
        " - It works well when the data is discrete / has binary attributes.\n",
        "\n",
        "\n",
        " **Cons**\n",
        " - It gives a higher distance value than Euclidean measure.\n",
        "\n",
        "**Jaccard Distance**\n",
        "\n",
        "It is used to calulate similarity and diversity of smaple sets.\n",
        "\n",
        "**Pros**\n",
        "\n",
        "- It is used in applicarions where binary or binarized data is used.\n",
        "- It is used in text similarity analysis, predicting segments of an image.\n",
        "\n",
        "**Cons**\n",
        "- It is highly influenced by the size of the data. Larger datasets will have higher amount of union when compared to intersection.\n",
        "\n"
      ]
    },
    {
      "cell_type": "markdown",
      "id": "45a99c76",
      "metadata": {
        "id": "45a99c76"
      },
      "source": [
        "***3. Report Mean Squared Error(MSE), Mean-Absolute-Error(MAE), R-squared (R2) score in a tabular form***"
      ]
    },
    {
      "cell_type": "markdown",
      "id": "d4dde8d3",
      "metadata": {
        "id": "d4dde8d3"
      },
      "source": [
        "***4. Choose different K values (k=1,3,5,7,11,17,23,28) and experiment. Plot a graph showing R2 score vs k.***"
      ]
    },
    {
      "cell_type": "code",
      "source": [
        "plt.plot(list(F1_score_euclidean.keys()),list(F1_score_euclidean.values()))\n",
        "plt.xlabel('k')\n",
        "plt.ylabel('F1 score')\n",
        "plt.title('KNN using Euclidean distance')\n",
        "plt.show()"
      ],
      "metadata": {
        "colab": {
          "base_uri": "https://localhost:8080/",
          "height": 295
        },
        "id": "AidBjUmRNQ-D",
        "outputId": "5d53412d-80db-4c78-ec94-074f54b118c0"
      },
      "id": "AidBjUmRNQ-D",
      "execution_count": null,
      "outputs": [
        {
          "output_type": "display_data",
          "data": {
            "image/png": "[encoded data removed]",
            "text/plain": [
              "<Figure size 432x288 with 1 Axes>"
            ]
          },
          "metadata": {
            "needs_background": "light"
          }
        }
      ]
    },
    {
      "cell_type": "code",
      "source": [
        "plt.plot(list(F1_score_cosine.keys()),list(F1_score_cosine.values()))\n",
        "plt.xlabel('k')\n",
        "plt.ylabel('F1 score')\n",
        "plt.title('KNN using Cosine similarity')\n",
        "plt.show()"
      ],
      "metadata": {
        "colab": {
          "base_uri": "https://localhost:8080/",
          "height": 295
        },
        "id": "gydIfXisQTVS",
        "outputId": "e0a361c7-1548-40d3-dba6-98289b23eff9"
      },
      "id": "gydIfXisQTVS",
      "execution_count": null,
      "outputs": [
        {
          "output_type": "display_data",
          "data": {
            "image/png": "[encoded data removed]",
            "text/plain": [
              "<Figure size 432x288 with 1 Axes>"
            ]
          },
          "metadata": {
            "needs_background": "light"
          }
        }
      ]
    },
    {
      "cell_type": "code",
      "source": [
        "plt.plot(list(F1_score_manhattan.keys()),list(F1_score_manhattan.values()))\n",
        "plt.xlabel('k')\n",
        "plt.ylabel('F1 score')\n",
        "plt.title('KNN using Manhattan distance')\n",
        "plt.show()"
      ],
      "metadata": {
        "colab": {
          "base_uri": "https://localhost:8080/",
          "height": 295
        },
        "id": "uCTC5l_0Qnzd",
        "outputId": "63f3fbb5-842f-413f-eabd-286b2d1a057e"
      },
      "id": "uCTC5l_0Qnzd",
      "execution_count": null,
      "outputs": [
        {
          "output_type": "display_data",
          "data": {
            "image/png": "[encoded data removed]",
            "text/plain": [
              "<Figure size 432x288 with 1 Axes>"
            ]
          },
          "metadata": {
            "needs_background": "light"
          }
        }
      ]
    },
    {
      "cell_type": "code",
      "execution_count": null,
      "id": "45e0fd2f",
      "metadata": {
        "id": "45e0fd2f"
      },
      "outputs": [],
      "source": [
        ""
      ]
    },
    {
      "cell_type": "markdown",
      "id": "15000352",
      "metadata": {
        "id": "15000352"
      },
      "source": [
        "### Train and test Sklearn's KNN classifier model on your data (use metric which gave best results on your experimentation with built-from-scratch model.)"
      ]
    },
    {
      "cell_type": "code",
      "source": [
        "knn = KNeighborsClassifier(n_neighbors=10,metric='cosine')\n",
        "knn.fit(X_train, Y_train)\n",
        "y_pred = knn.predict(X_test)"
      ],
      "metadata": {
        "id": "Xo8Uy2uYMQKV"
      },
      "id": "Xo8Uy2uYMQKV",
      "execution_count": null,
      "outputs": []
    },
    {
      "cell_type": "code",
      "source": [
        "cm = confusion_matrix(Y_test_array, y_pred)\n",
        "disp = ConfusionMatrixDisplay(confusion_matrix=cm)\n",
        "disp.plot()"
      ],
      "metadata": {
        "colab": {
          "base_uri": "https://localhost:8080/",
          "height": 297
        },
        "id": "nlFLY1T8q43b",
        "outputId": "1bb14403-988c-4ebd-c681-2135852f5510"
      },
      "id": "nlFLY1T8q43b",
      "execution_count": null,
      "outputs": [
        {
          "output_type": "execute_result",
          "data": {
            "text/plain": [
              "<sklearn.metrics._plot.confusion_matrix.ConfusionMatrixDisplay at 0x7efdfac19390>"
            ]
          },
          "metadata": {},
          "execution_count": 124
        },
        {
          "output_type": "display_data",
          "data": {
            "image/png": "[encoded data removed]",
            "text/plain": [
              "<Figure size 432x288 with 2 Axes>"
            ]
          },
          "metadata": {
            "needs_background": "light"
          }
        }
      ]
    },
    {
      "cell_type": "code",
      "source": [
        "cnf_matrix = cm.tolist()\n",
        "\n",
        "tn_fp, fn_tp = cnf_matrix\n",
        "\n",
        "tn, fp = tn_fp\n",
        "fn, tp = fn_tp"
      ],
      "metadata": {
        "id": "yzcByGnQrUEA"
      },
      "id": "yzcByGnQrUEA",
      "execution_count": null,
      "outputs": []
    },
    {
      "cell_type": "code",
      "source": [
        "accuracy_sk_model=(tp+tn)/(tp+tn+fp+fn)\n",
        "precision_sk_model=tp/(tp+fp)\n",
        "recall_sk_model=tp/(tp+fn)\n"
      ],
      "metadata": {
        "colab": {
          "base_uri": "https://localhost:8080/"
        },
        "id": "ANxkI61SrU2K",
        "outputId": "662e2231-8f6e-4075-85d2-e98c32fef6bf"
      },
      "id": "ANxkI61SrU2K",
      "execution_count": null,
      "outputs": [
        {
          "output_type": "stream",
          "name": "stdout",
          "text": [
            "Accuracy:  0.958498023715415\n",
            "Precision:  0.9743589743589743\n",
            "Recall:  0.6551724137931034\n",
            "F1 score:  0.7835051546391754\n"
          ]
        }
      ]
    },
    {
      "cell_type": "code",
      "source": [
        "Y_predicted=predict(X_test_list,k_v=5,metric=Cosine_distance)"
      ],
      "metadata": {
        "colab": {
          "base_uri": "https://localhost:8080/"
        },
        "id": "lFB49OeVDmrl",
        "outputId": "6f68615c-39e9-4812-c700-4321e81d2466"
      },
      "id": "lFB49OeVDmrl",
      "execution_count": null,
      "outputs": [
        {
          "output_type": "stream",
          "name": "stderr",
          "text": [
            "/usr/local/lib/python3.7/dist-packages/ipykernel_launcher.py:2: RuntimeWarning: invalid value encountered in double_scalars\n",
            "  \n"
          ]
        }
      ]
    },
    {
      "cell_type": "code",
      "execution_count": null,
      "id": "e9668814",
      "metadata": {
        "id": "e9668814",
        "colab": {
          "base_uri": "https://localhost:8080/",
          "height": 297
        },
        "outputId": "cddbfff1-e57e-4165-de38-438188be0848"
      },
      "outputs": [
        {
          "output_type": "execute_result",
          "data": {
            "text/plain": [
              "<sklearn.metrics._plot.confusion_matrix.ConfusionMatrixDisplay at 0x7efdfad65d50>"
            ]
          },
          "metadata": {},
          "execution_count": 119
        },
        {
          "output_type": "display_data",
          "data": {
            "image/png": "[encoded data removed]",
            "text/plain": [
              "<Figure size 432x288 with 2 Axes>"
            ]
          },
          "metadata": {
            "needs_background": "light"
          }
        }
      ],
      "source": [
        "cm = confusion_matrix(Y_test_array, Y_predicted)\n",
        "disp = ConfusionMatrixDisplay(confusion_matrix=cm)\n",
        "disp.plot()\n"
      ]
    },
    {
      "cell_type": "code",
      "source": [
        "cnf_matrix = cm.tolist()\n",
        "\n",
        "tn_fp, fn_tp = cnf_matrix\n",
        "\n",
        "tn, fp = tn_fp\n",
        "fn, tp = fn_tp"
      ],
      "metadata": {
        "id": "OAbuLaeFUgxZ"
      },
      "id": "OAbuLaeFUgxZ",
      "execution_count": null,
      "outputs": []
    },
    {
      "cell_type": "code",
      "source": [
        "accuracy_developed_model=(tp+tn)/(tp+tn+fp+fn)\n",
        "precision_developed_model=tp/(tp+fp)\n",
        "recall_developed_model=tp/(tp+fn)\n"
      ],
      "metadata": {
        "colab": {
          "base_uri": "https://localhost:8080/"
        },
        "id": "CEQKeF9qCZmg",
        "outputId": "d4c96e4a-a70a-4ef8-cb73-0306e099be5f"
      },
      "id": "CEQKeF9qCZmg",
      "execution_count": null,
      "outputs": [
        {
          "output_type": "stream",
          "name": "stdout",
          "text": [
            "Accuracy:  0.958498023715415\n",
            "Precision:  0.9743589743589743\n",
            "Recall:  0.6551724137931034\n",
            "F1 score:  0.7835051546391754\n"
          ]
        }
      ]
    },
    {
      "cell_type": "markdown",
      "id": "7d22aa47",
      "metadata": {
        "id": "7d22aa47"
      },
      "source": [
        "***Compare both the models result.***"
      ]
    },
    {
      "cell_type": "markdown",
      "source": [
        "# Metrics of SK Learn Model\n"
      ],
      "metadata": {
        "id": "oHKCjE2B2MBK"
      },
      "id": "oHKCjE2B2MBK"
    },
    {
      "cell_type": "code",
      "execution_count": null,
      "id": "6a7a5274",
      "metadata": {
        "id": "6a7a5274",
        "colab": {
          "base_uri": "https://localhost:8080/"
        },
        "outputId": "be3046a9-9a39-4445-b61a-85506ae60d84"
      },
      "outputs": [
        {
          "output_type": "stream",
          "name": "stdout",
          "text": [
            "Accuracy:  0.958498023715415\n",
            "Precision:  0.9743589743589743\n",
            "Recall:  0.6551724137931034\n",
            "F1 score:  0.7835051546391754\n"
          ]
        }
      ],
      "source": [
        "\n",
        "print(\"Accuracy: \",accuracy_sk_model)\n",
        "print(\"Precision: \",precision_sk_model)\n",
        "print(\"Recall: \",recall_sk_model)\n",
        "print(\"F1 score: \",2*precision_sk_model*recall_sk_model/(precision_sk_model+recall_sk_model))"
      ]
    },
    {
      "cell_type": "markdown",
      "source": [
        "# Metrics of Developed Model"
      ],
      "metadata": {
        "id": "uP9_AWgM2WI0"
      },
      "id": "uP9_AWgM2WI0"
    },
    {
      "cell_type": "code",
      "source": [
        "print(\"Accuracy: \",accuracy_developed_model)\n",
        "print(\"Precision: \",precision_developed_model)\n",
        "print(\"Recall: \",recall_developed_model)\n",
        "print(\"F1 score: \",2*precision_developed_model*recall_developed_model/(precision_developed_model+recall_developed_model))"
      ],
      "metadata": {
        "colab": {
          "base_uri": "https://localhost:8080/"
        },
        "id": "qMJ4XZlw2EDo",
        "outputId": "50011e84-14b4-438b-8cd3-c6be163fedb6"
      },
      "id": "qMJ4XZlw2EDo",
      "execution_count": null,
      "outputs": [
        {
          "output_type": "stream",
          "name": "stdout",
          "text": [
            "Accuracy:  0.958498023715415\n",
            "Precision:  0.9743589743589743\n",
            "Recall:  0.6551724137931034\n",
            "F1 score:  0.7835051546391754\n"
          ]
        }
      ]
    },
    {
      "cell_type": "markdown",
      "id": "64987575",
      "metadata": {
        "id": "64987575"
      },
      "source": [
        "***What is the time complexity of training using KNN classifier?***"
      ]
    },
    {
      "cell_type": "markdown",
      "id": "2770c106",
      "metadata": {
        "id": "2770c106"
      },
      "source": [
        "KNN is know as lazy learner. It does not have training phase. \n",
        "\n",
        "It calculates the distances of every test point with the given points and computes the nearest neighbours. \n",
        "\n",
        "Hence the complexity of training phase : **O(1)**\n",
        "\n"
      ]
    },
    {
      "cell_type": "markdown",
      "id": "fad1f345",
      "metadata": {
        "id": "fad1f345"
      },
      "source": [
        "***What is the time complexity while testing? Is KNN a linear classifier or can it learn any boundary?***"
      ]
    },
    {
      "cell_type": "raw",
      "id": "0daaa324",
      "metadata": {
        "id": "0daaa324"
      },
      "source": [
        "Let there be n test points and m training points.\n",
        "\n",
        "For every test point:\n",
        "\n",
        "    Distance with every training point is calculated : O(md)\n",
        "      where d is the number of dimensions\n",
        "    Distances are sorted to find nearest neighbours: O(m logm)\n",
        "\n",
        "Therefore the overall time complexity :**O(n.(md+mlogm))**\n",
        "\n",
        "Current algorithms can have sorting technique in O(m), since the work is to get K closest neighbours making the time complexity as O(n md)\n",
        "\n",
        "A Linear Classifier is said to have decision boundary of hyperplanes. KNN is not a Linear Classifier. Yes it can learn by boundary functions.\n"
      ]
    },
    {
      "cell_type": "code",
      "source": [
        ""
      ],
      "metadata": {
        "id": "1I3ioAkd2liP"
      },
      "id": "1I3ioAkd2liP",
      "execution_count": null,
      "outputs": []
    }
  ],
  "metadata": {
    "kernelspec": {
      "display_name": "Python 3",
      "language": "python",
      "name": "python3"
    },
    "language_info": {
      "codemirror_mode": {
        "name": "ipython",
        "version": 3
      },
      "file_extension": ".py",
      "mimetype": "text/x-python",
      "name": "python",
      "nbconvert_exporter": "python",
      "pygments_lexer": "ipython3",
      "version": "3.8.10"
    },
    "colab": {
      "name": "2021201005_Assignment1_Question3.ipynb",
      "provenance": [],
      "collapsed_sections": []
    }
  },
  "nbformat": 4,
  "nbformat_minor": 5
}