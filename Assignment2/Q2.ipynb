{
  "cells": [
    {
      "cell_type": "markdown",
      "id": "improving-pepper",
      "metadata": {
        "id": "improving-pepper"
      },
      "source": [
        "# Assignment 2 - Question 2\n",
        "The objective of this assignment is to get you familiarize with  the  problem  of  `Linear Regression`.\n",
        "\n",
        "## Instructions\n",
        "- Write your code and analysis in the indicated cells.\n",
        "- Ensure that this notebook runs without errors when the cells are run in sequence.\n",
        "- Do not attempt to change the contents of other cells.\n",
        "- No inbuilt functions to be used until specified\n",
        "\n",
        "## Submission\n",
        "- Ensure that this notebook runs without errors when the cells are run in sequence.\n",
        "- Rename the notebook to `<roll_number>_Assignment2_Q2.ipynb`."
      ]
    },
    {
      "cell_type": "markdown",
      "id": "final-transaction",
      "metadata": {
        "id": "final-transaction"
      },
      "source": [
        "## 2.0 Background about the dataset\n",
        "\n",
        "TLDR: You have 4 independent variables (`float`) for each molecule. You can use a linear combination of these 4 independent variables to predict the bandgap (dependent variable) of each molecule.\n",
        "\n",
        "You can read more about the problem in [Li et al, Bandgap tuning strategy by cations and halide ions of lead halide perovskites learned from machine learning, RSC Adv., 2021,11, 15688-15694](https://doi.org/10.1039/D1RA03117A)."
      ]
    },
    {
      "cell_type": "code",
      "execution_count": 12,
      "id": "lyric-olympus",
      "metadata": {
        "id": "lyric-olympus"
      },
      "outputs": [],
      "source": [
        "import csv\n",
        "import random\n",
        "import numpy as np\n",
        "import matplotlib.pyplot as plt\n",
        "from tabulate import tabulate"
      ]
    },
    {
      "cell_type": "code",
      "execution_count": 2,
      "id": "hundred-receipt",
      "metadata": {
        "id": "hundred-receipt"
      },
      "outputs": [],
      "source": [
        "all_molecules = list()\n",
        "\n",
        "with open('bg_data.txt', 'r') as infile:\n",
        "    input_rows = csv.DictReader(infile)\n",
        "    \n",
        "    for row in input_rows:\n",
        "        current_mol = ([float(row['Cs']), float(row['FA']), float(row['Cl']), float(row['Br'])], float(row['Bandgap']))\n",
        "        all_molecules.append(current_mol)\n",
        "\n",
        "random.shuffle(all_molecules)\n",
        "\n",
        "\n",
        "\n",
        "num_train = int(len(all_molecules) * 0.8)\n",
        "\n",
        "# each point in x_train has 4 values - 1 for each feature\n",
        "x_train = [x[0] for x in all_molecules[:num_train]]\n",
        "# each point in y_train has 1 value - the bandgap of the molecule\n",
        "y_train = [x[1] for x in all_molecules[:num_train]]\n",
        "\n",
        "x_test = [x[0] for x in all_molecules[num_train:]]\n",
        "y_test = [x[1] for x in all_molecules[num_train:]]"
      ]
    },
    {
      "cell_type": "markdown",
      "id": "square-direction",
      "metadata": {
        "id": "square-direction"
      },
      "source": [
        "### 2.1 Implement a Linear Regression model that minimizes the MSE **without using any libraries**. You may use NumPy to vectorize your code, but *do not use numpy.polyfit* or anything similar.\n",
        "\n",
        "2.1.1 Explain how you plan to implement Linear Regression in 5-10 lines."
      ]
    },
    {
      "cell_type": "markdown",
      "id": "frozen-forth",
      "metadata": {
        "id": "frozen-forth"
      },
      "source": [
        "<!-- your answer to 1.1.1 -->"
      ]
    },
    {
      "cell_type": "markdown",
      "id": "addressed-winter",
      "metadata": {
        "id": "addressed-winter"
      },
      "source": [
        "2.1.2 Implement Linear Regression using `x_train` and `y_train` as the train dataset.\n",
        "\n",
        "2.1.2.1 Choose the best learning rate and print the learning rate for which you achieved the best MSE."
      ]
    },
    {
      "cell_type": "markdown",
      "source": [
        "Initial weights and bias are taken as 0.\n",
        "1. Prediction is done using\n",
        "\n",
        "      Y_pred = x.Weights + Bias\n",
        "2. Loss is calculated\n",
        "\n",
        "      Loss = Y_true - Y_pred\n",
        "3. Updating weight Gradient\n",
        "\n",
        "   Weight Gradient = X' * loss / Length of Y\n",
        "   where X' is X Transpose\n",
        "4. Updating Bias Gradient\n",
        "\n",
        "    Bias Gradient = sum of Loss / Length of Y\n",
        "5. Weights and Bias are updated\n",
        "\n",
        "    Weights = Weights - learning_rate*weight_gradient\n",
        "    Bias = Bias - learning_rate*bias_gradient\n",
        "\n",
        "6. The Gradient descent adopted here is Mini Batch Gradient descent.\n",
        "Here Batch wise error is computed and weights are updated.\n",
        "\n",
        "7. The above Linear Regression is performed for different Learning Rates and the mean square error is computed for each Learning rate.The Learning rate with minimum mean square error is chosen."
      ],
      "metadata": {
        "id": "UbrzOGCVMVSs"
      },
      "id": "UbrzOGCVMVSs"
    },
    {
      "cell_type": "code",
      "source": [
        "x_train = np.array(x_train)\n",
        "x_test = np.array(x_test)\n",
        "y_train = np.array(y_train)\n",
        "y_test = np.array(y_test)"
      ],
      "metadata": {
        "id": "gVFEJyjipCdQ"
      },
      "id": "gVFEJyjipCdQ",
      "execution_count": 3,
      "outputs": []
    },
    {
      "cell_type": "code",
      "execution_count": 4,
      "id": "angry-depression",
      "metadata": {
        "id": "angry-depression"
      },
      "outputs": [],
      "source": [
        "\n",
        "# implement Linear Regression\n",
        "def predict(x,weights,bias):\n",
        "  return x.dot(weights)+bias\n",
        "\n",
        "\n",
        "\n",
        "def calculateMSE(y_true,y_pred):\n",
        "  return np.square(np.subtract(y_true,y_pred)).mean()\n",
        "\n",
        "\n",
        "  "
      ]
    },
    {
      "cell_type": "code",
      "source": [
        "def LinearRegressionFit(x, y, w, b, learning_rate, epochs):\n",
        "   \n",
        "    for epoch in range(epochs):\n",
        "        z = x.dot(w) + b\n",
        "        loss = z - y\n",
        "        \n",
        "        weight_gradient = x.T.dot(loss) / len(y)\n",
        "        bias_gradient = np.sum(loss) / len(y)\n",
        "        \n",
        "        w = w - learning_rate*weight_gradient\n",
        "        b = b - learning_rate*bias_gradient\n",
        "  \n",
        "        \n",
        "    return w, b"
      ],
      "metadata": {
        "id": "Sh1CCXaZp8W4"
      },
      "id": "Sh1CCXaZp8W4",
      "execution_count": 5,
      "outputs": []
    },
    {
      "cell_type": "code",
      "source": [
        "mse_dict={}\n",
        "weights_dict={}\n",
        "bias_dict={}\n",
        "alpha=0.002\n",
        "while alpha<1:\n",
        "  weights=np.zeros(x_train.shape[1])\n",
        "  bias = 0\n",
        "  weights,bias = LinearRegressionFit(x_train,y_train,weights,bias,alpha,epochs=1500)\n",
        "  y_pred = predict(x_test,weights,bias)\n",
        "  weights_dict[alpha] = weights\n",
        "  bias_dict[alpha] = bias\n",
        "  \n",
        "  mse_dict[alpha] = calculateMSE(y_test,y_pred)\n",
        "  print(alpha,\"=>\",mse_dict[alpha])\n",
        "  alpha*=2"
      ],
      "metadata": {
        "colab": {
          "base_uri": "https://localhost:8080/"
        },
        "id": "i4BV79_Zq1Hx",
        "outputId": "43cb3b36-2cad-4b0e-ad4f-71f62f2937c5"
      },
      "id": "i4BV79_Zq1Hx",
      "execution_count": 6,
      "outputs": [
        {
          "output_type": "stream",
          "name": "stdout",
          "text": [
            "0.002 => 0.08064367961655713\n",
            "0.004 => 0.04475342475678951\n",
            "0.008 => 0.020203456659102413\n",
            "0.016 => 0.0079152222799092\n",
            "0.032 => 0.003597164104116851\n",
            "0.064 => 0.0033183171997550444\n",
            "0.128 => 0.0034929637765216282\n",
            "0.256 => 0.0035060486069669033\n",
            "0.512 => 0.0035060886162526362\n"
          ]
        }
      ]
    },
    {
      "cell_type": "code",
      "source": [
        "mse_lr_items = sorted(mse_dict.items(), key=lambda item: item[1])"
      ],
      "metadata": {
        "id": "OOx8-J2jtAvy"
      },
      "id": "OOx8-J2jtAvy",
      "execution_count": 7,
      "outputs": []
    },
    {
      "cell_type": "code",
      "source": [
        "learning_rate = mse_lr_items[0][0]\n",
        "learning_rate"
      ],
      "metadata": {
        "colab": {
          "base_uri": "https://localhost:8080/"
        },
        "id": "4cFoPUw6xQ22",
        "outputId": "05e9c13d-2f24-4472-9fd3-b4bea6a37b7e"
      },
      "id": "4cFoPUw6xQ22",
      "execution_count": 8,
      "outputs": [
        {
          "output_type": "execute_result",
          "data": {
            "text/plain": [
              "0.064"
            ]
          },
          "metadata": {},
          "execution_count": 8
        }
      ]
    },
    {
      "cell_type": "markdown",
      "id": "angry-tampa",
      "metadata": {
        "id": "angry-tampa"
      },
      "source": [
        "2.1.3 Make a [Parity Plot](https://en.wikipedia.org/wiki/Parity_plot) of your model's bandgap predictions on the test set with the actual values."
      ]
    },
    {
      "cell_type": "code",
      "source": [
        "y_pred = predict(x_test,weights_dict[learning_rate],bias_dict[learning_rate])"
      ],
      "metadata": {
        "id": "vmeVSJ2OxpM3"
      },
      "id": "vmeVSJ2OxpM3",
      "execution_count": 9,
      "outputs": []
    },
    {
      "cell_type": "code",
      "execution_count": 10,
      "id": "foster-center",
      "metadata": {
        "id": "foster-center",
        "outputId": "8e19f3b9-f8a8-433d-a4be-9837909bd00b",
        "colab": {
          "base_uri": "https://localhost:8080/",
          "height": 636
        }
      },
      "outputs": [
        {
          "output_type": "display_data",
          "data": {
            "image/png": "[encoded data removed]",
            "text/plain": [
              "<Figure size 720x1440 with 1 Axes>"
            ]
          },
          "metadata": {
            "needs_background": "light"
          }
        }
      ],
      "source": [
        "# Get the predictions of x_test into `y_pred`\n",
        "\n",
        "#\n",
        "# ...\n",
        "#\n",
        "\n",
        "import matplotlib.pyplot as plt\n",
        "fig, ax = plt.subplots(figsize=(10,20))\n",
        "\n",
        "ax.scatter(y_test, y_pred)\n",
        "\n",
        "lims = [\n",
        "    np.min([ax.get_xlim(), ax.get_ylim()]),\n",
        "    np.max([ax.get_xlim(), ax.get_ylim()]),\n",
        "]\n",
        "ax.plot(lims, lims, 'k-', alpha=0.75, zorder=0)\n",
        "ax.set_aspect('equal')\n",
        "ax.set_xlim(lims)\n",
        "ax.set_ylim(lims)\n",
        "\n",
        "ax.set_title('Parity Plot of Custom Linear Regression')\n",
        "ax.set_xlabel('Ground truth bandgap values')\n",
        "ax.set_ylabel('Predicted bandgap values')\n",
        "plt.show()"
      ]
    },
    {
      "cell_type": "markdown",
      "id": "dominant-chaos",
      "metadata": {
        "id": "dominant-chaos"
      },
      "source": [
        "### 2.2 Implement Ridge regression\n",
        "2.2.1 Explain Ridge regression briefly in 1-2 lines."
      ]
    },
    {
      "cell_type": "markdown",
      "id": "happy-cyprus",
      "metadata": {
        "id": "happy-cyprus"
      },
      "source": [
        "<!-- Your answer to 1.2.1 -->\n",
        "- The cost function of Linear Regression is altered by adding a penalty term.\n",
        "- It uses L2 Regularization which adds the penalty of square value of coefficients.\n",
        "- It is suitable for models having multi collinearity."
      ]
    },
    {
      "cell_type": "markdown",
      "id": "tight-forwarding",
      "metadata": {
        "id": "tight-forwarding"
      },
      "source": [
        "2.2.2 Implement Ridge regression and make a table of different RMSE scores you achieved with different values of alpha. What does the parameter `alpha` do? How does it affect the results here? Explain in 5-10 lines in total. (You can use scikit-learn from this cell onwards)"
      ]
    },
    {
      "cell_type": "code",
      "execution_count": 16,
      "id": "violent-northern",
      "metadata": {
        "id": "violent-northern"
      },
      "outputs": [],
      "source": [
        "# you should not have imported sklearn before this point\n",
        "import sklearn\n",
        "import math\n",
        "# implement Ridge regression and make a table where you explore the effect of different values of `alpha`\n",
        "from sklearn.linear_model import Ridge\n",
        "from sklearn.metrics import mean_squared_error\n",
        "\n",
        "alpha_ridge = [1e-15, 1e-10, 1e-8, 1e-4, 1e-3,1e-2, 1, 5, 10, 20]\n",
        "rmse_ridge=[]\n",
        "for a in alpha_ridge:\n",
        "  clf = Ridge(alpha=a)\n",
        "  clf.fit(x_train,y_train)\n",
        "  y_pred=clf.predict(x_test)\n",
        "  rmse_ridge.append([a,mean_squared_error(y_test,y_pred,squared=False)])"
      ]
    },
    {
      "cell_type": "code",
      "source": [
        "rmse_ridge"
      ],
      "metadata": {
        "colab": {
          "base_uri": "https://localhost:8080/"
        },
        "id": "Cn2yXemUnJxj",
        "outputId": "99304362-ea85-4c0a-f642-cf12e6c068f8"
      },
      "id": "Cn2yXemUnJxj",
      "execution_count": 17,
      "outputs": [
        {
          "output_type": "execute_result",
          "data": {
            "text/plain": [
              "[[1e-15, 0.05921223367339159],\n",
              " [1e-10, 0.05921223367036925],\n",
              " [1e-08, 0.05921223337115717],\n",
              " [0.0001, 0.05920921240166124],\n",
              " [0.001, 0.05918211748213789],\n",
              " [0.01, 0.058920710810527965],\n",
              " [1, 0.08964399875239885],\n",
              " [5, 0.21280764188373943],\n",
              " [10, 0.27058162285533305],\n",
              " [20, 0.3196623367090551]]"
            ]
          },
          "metadata": {},
          "execution_count": 17
        }
      ]
    },
    {
      "cell_type": "code",
      "source": [
        "print(tabulate(rmse_ridge,tablefmt='grid',headers=['Alpha','RMSE']))"
      ],
      "metadata": {
        "colab": {
          "base_uri": "https://localhost:8080/"
        },
        "id": "N4LFtlkImwuS",
        "outputId": "40b4b920-625b-428c-f91a-c2e9f3fd28b2"
      },
      "id": "N4LFtlkImwuS",
      "execution_count": 22,
      "outputs": [
        {
          "output_type": "stream",
          "name": "stdout",
          "text": [
            "+---------+-----------+\n",
            "|   Alpha |      RMSE |\n",
            "+=========+===========+\n",
            "|  1e-15  | 0.0592122 |\n",
            "+---------+-----------+\n",
            "|  1e-10  | 0.0592122 |\n",
            "+---------+-----------+\n",
            "|  1e-08  | 0.0592122 |\n",
            "+---------+-----------+\n",
            "|  0.0001 | 0.0592092 |\n",
            "+---------+-----------+\n",
            "|  0.001  | 0.0591821 |\n",
            "+---------+-----------+\n",
            "|  0.01   | 0.0589207 |\n",
            "+---------+-----------+\n",
            "|  1      | 0.089644  |\n",
            "+---------+-----------+\n",
            "|  5      | 0.212808  |\n",
            "+---------+-----------+\n",
            "| 10      | 0.270582  |\n",
            "+---------+-----------+\n",
            "| 20      | 0.319662  |\n",
            "+---------+-----------+\n"
          ]
        }
      ]
    },
    {
      "cell_type": "markdown",
      "source": [
        "## Obervation Analysis\n",
        "- The alpha is hyperparameter which is a residue to the penalty term.\n",
        "- As the value of alpha is increased, the weights increases and the variance decreases\n",
        "- As the value of alpha increases, the model becomes less responsive to the independent variables.\n",
        "- The ridge regression shrinks the coefficients but does not settle them to 0. Therefore it retains all the features and remains complex.\n",
        "- The updation is slower in ridge as the weights are squared."
      ],
      "metadata": {
        "id": "KeaHBKbtQwdY"
      },
      "id": "KeaHBKbtQwdY"
    },
    {
      "cell_type": "markdown",
      "id": "adolescent-temperature",
      "metadata": {
        "id": "adolescent-temperature"
      },
      "source": [
        "### 2.3 Implement Lasso regression\n",
        "2.3.1 Explain Lasso regression briefly in 1-2 lines.\n",
        "- The cost function of Linear Regression is altered by adding a penalty term.\n",
        "- It uses L1 Regularization which adds the penalty of absolute value of coefficients.\n",
        "- It is suitable for building spare models.\n"
      ]
    },
    {
      "cell_type": "markdown",
      "id": "popular-wonder",
      "metadata": {
        "id": "popular-wonder"
      },
      "source": [
        "2.3.2 Implement Lasso regression and make a table of different RMSE scores you achieved with different values of alpha. What does the parameter `alpha` do? How does it affect the results here? Explain in 5-10 lines in total."
      ]
    },
    {
      "cell_type": "code",
      "execution_count": null,
      "id": "extra-brighton",
      "metadata": {
        "id": "extra-brighton"
      },
      "outputs": [],
      "source": [
        "# implement Lasso regression and make a table where you explore the effect of different values of `alpha`"
      ]
    },
    {
      "cell_type": "code",
      "execution_count": 23,
      "id": "accompanied-worst",
      "metadata": {
        "id": "accompanied-worst"
      },
      "outputs": [],
      "source": [
        "\n",
        "from sklearn.linear_model import Lasso\n",
        "from sklearn.metrics import mean_squared_error\n",
        "alpha_lasso = [1e-15, 1e-10, 1e-8, 1e-4, 1e-3,1e-2, 1, 5, 10, 20]\n",
        "rmse_lasso=[]\n",
        "for a in alpha_lasso:\n",
        "  clf = Lasso(alpha=a)\n",
        "  clf.fit(x_train,y_train)\n",
        "  y_pred=clf.predict(x_test)\n",
        "  rmse_lasso.append([a,mean_squared_error(y_test,y_pred,squared=False)])\n"
      ]
    },
    {
      "cell_type": "code",
      "source": [
        "print(tabulate(rmse_lasso,tablefmt='grid',headers=['Alpha','RMSE']))"
      ],
      "metadata": {
        "id": "cLMbUPJQYkRi",
        "colab": {
          "base_uri": "https://localhost:8080/"
        },
        "outputId": "eb9e5923-1fe2-43a4-e997-a578ff4c8be8"
      },
      "id": "cLMbUPJQYkRi",
      "execution_count": 24,
      "outputs": [
        {
          "output_type": "stream",
          "name": "stdout",
          "text": [
            "+---------+-----------+\n",
            "|   Alpha |      RMSE |\n",
            "+=========+===========+\n",
            "|  1e-15  | 0.0592122 |\n",
            "+---------+-----------+\n",
            "|  1e-10  | 0.0592122 |\n",
            "+---------+-----------+\n",
            "|  1e-08  | 0.0592122 |\n",
            "+---------+-----------+\n",
            "|  0.0001 | 0.059197  |\n",
            "+---------+-----------+\n",
            "|  0.001  | 0.0585304 |\n",
            "+---------+-----------+\n",
            "|  0.01   | 0.0673177 |\n",
            "+---------+-----------+\n",
            "|  1      | 0.424424  |\n",
            "+---------+-----------+\n",
            "|  5      | 0.424424  |\n",
            "+---------+-----------+\n",
            "| 10      | 0.424424  |\n",
            "+---------+-----------+\n",
            "| 20      | 0.424424  |\n",
            "+---------+-----------+\n"
          ]
        }
      ]
    },
    {
      "cell_type": "markdown",
      "source": [
        "## Obervation Analysis\n",
        "- The alpha is hyperparameter which is a residue to the penalty term.\n",
        "- As the value of alpha is increased, the weights increases and the variance decreases\n",
        "- As the value of alpha is increased, the slope of best fit line decreases and the line becomes horizontal.\n",
        "- The updation is faster in Lasso when compared to Ridge as the weights are absolute values."
      ],
      "metadata": {
        "id": "lJ866vDaVpMY"
      },
      "id": "lJ866vDaVpMY"
    },
    {
      "cell_type": "code",
      "source": [
        ""
      ],
      "metadata": {
        "id": "7DWCJq9kMbpH"
      },
      "id": "7DWCJq9kMbpH",
      "execution_count": null,
      "outputs": []
    }
  ],
  "metadata": {
    "kernelspec": {
      "display_name": "Python 3",
      "language": "python",
      "name": "python3"
    },
    "language_info": {
      "codemirror_mode": {
        "name": "ipython",
        "version": 3
      },
      "file_extension": ".py",
      "mimetype": "text/x-python",
      "name": "python",
      "nbconvert_exporter": "python",
      "pygments_lexer": "ipython3",
      "version": "3.8.5"
    },
    "colab": {
      "name": "2021201005_Assignment2_Q2.ipynb",
      "provenance": [],
      "collapsed_sections": []
    }
  },
  "nbformat": 4,
  "nbformat_minor": 5
}